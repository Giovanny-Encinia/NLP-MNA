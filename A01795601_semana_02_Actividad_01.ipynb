{
  "nbformat": 4,
  "nbformat_minor": 0,
  "metadata": {
    "colab": {
      "provenance": [],
      "collapsed_sections": [
        "759SG4TyfbUn",
        "Zj-h4drXD-X9",
        "BY6yifxscfrx",
        "k_ewoagic5jc",
        "70StdqAZa9E9"
      ]
    },
    "kernelspec": {
      "name": "python3",
      "display_name": "Python 3"
    },
    "language_info": {
      "name": "python"
    }
  },
  "cells": [
    {
      "cell_type": "markdown",
      "source": [
        "#**Maestría en Inteligencia Artificial Aplicada**\n",
        "##**Curso: Procesamiento de Lenguaje Natural (NLP)**\n",
        "###Tecnológico de Monterrey\n",
        "###Prof Luis Eduardo Falcón Morales\n",
        "\n",
        "## **Adtividad de la Semana 02**\n",
        "###**Introducción al procesamiento de texto.**"
      ],
      "metadata": {
        "id": "759SG4TyfbUn"
      }
    },
    {
      "cell_type": "markdown",
      "source": [
        "En esta actividad deberás utilizar los datos del siguiente archivo que se encuentra en Canvas:\n",
        "\n",
        "MNA_NLP_semana_02_Actividad_datos.txt\n",
        "\n",
        "El archivo contiene comentarios en inglés sobre servicios de comida de la página de Yelp: https://www.yelp.com/ .\n",
        "\n",
        "Son mil comentarios y forman parte del conjunto de datos que se encuentra en el Machine Learning Repository de la UCI, llamado \"Sentiment Labelled Sentences\": https://archive.ics.uci.edu/ml/datasets/Sentiment+Labelled+Sentences#\n"
      ],
      "metadata": {
        "id": "6ue1YAKx3XDo"
      }
    },
    {
      "cell_type": "markdown",
      "source": [
        "#**Parte 1. Cargamos los datos.**   "
      ],
      "metadata": {
        "id": "Zj-h4drXD-X9"
      }
    },
    {
      "cell_type": "markdown",
      "source": [
        "Cargar los datos del archivo indicado y obtener una lista de longitud de 1000 strings/comentarios.\n",
        "\n",
        "Por el momento solamente requerimos las bibliotecas de Numpy y re, para el manejo de los arreglos y de las expresiones regulares en Python.\n",
        "\n",
        "En particular, no necesitarás en esta actividad la biblioteca de Pandas.\n",
        "\n",
        "###**NOTA: En esta actividad no debes importar nada más, con estas dos bibliotecas será *suficiente*.**"
      ],
      "metadata": {
        "id": "BY6yifxscfrx"
      }
    },
    {
      "cell_type": "code",
      "source": [
        "import numpy as np    # importamos Numpy para el manejo de los arreglos.\n",
        "import re             # importamos re para el manejo de las expresiones regulares."
      ],
      "metadata": {
        "id": "OJ26dAfhdFnf"
      },
      "execution_count": 1,
      "outputs": []
    },
    {
      "cell_type": "code",
      "source": [
        "# Ejecuta las siguientes instrucciones para cargar la información del achivo dado:\n",
        "\n",
        "with open('MNA_NLP_semana_02_Actividad_datos.txt',        # puedes actualizar la ruta a tu archivo, en dado caso.\n",
        "          mode='r',     # abrimos el archivo en modo lectura.\n",
        "          ) as f:\n",
        "    docs = f.readlines()    # separamos cada comentario por líneas\n",
        "\n",
        "f.close()  # ya que tenemos la información en la variable docs, cerramos el archivo"
      ],
      "metadata": {
        "id": "QHUmJyjDdGNP"
      },
      "execution_count": 2,
      "outputs": []
    },
    {
      "cell_type": "code",
      "source": [
        "type(docs) == list   # Verifica que tu variable \"docs\" es una lista"
      ],
      "metadata": {
        "id": "L6WzrSrodG-Y",
        "colab": {
          "base_uri": "https://localhost:8080/"
        },
        "outputId": "06ea22cb-227c-4ea0-f0da-67238824beec"
      },
      "execution_count": 3,
      "outputs": [
        {
          "output_type": "execute_result",
          "data": {
            "text/plain": [
              "True"
            ]
          },
          "metadata": {},
          "execution_count": 3
        }
      ]
    },
    {
      "cell_type": "code",
      "source": [
        "len(docs)==1000  # verifica que la longitud de \"docs\" es de mil comentarios."
      ],
      "metadata": {
        "id": "QIK1u9WS2FtS",
        "colab": {
          "base_uri": "https://localhost:8080/"
        },
        "outputId": "2282c47d-8726-4603-f279-a6658ecd4d7a"
      },
      "execution_count": 4,
      "outputs": [
        {
          "output_type": "execute_result",
          "data": {
            "text/plain": [
              "True"
            ]
          },
          "metadata": {},
          "execution_count": 4
        }
      ]
    },
    {
      "cell_type": "code",
      "source": [
        "docs[0:10]     # observa algunos de los primeros comentarios"
      ],
      "metadata": {
        "id": "9AMLIfQvJqNZ",
        "colab": {
          "base_uri": "https://localhost:8080/"
        },
        "outputId": "973af906-87e0-4c4d-927e-cda1f9a963e9"
      },
      "execution_count": 5,
      "outputs": [
        {
          "output_type": "execute_result",
          "data": {
            "text/plain": [
              "['Wow... Loved this place.\\n',\n",
              " 'Crust is not good.\\n',\n",
              " 'Not tasty and the texture was just nasty.\\n',\n",
              " 'Stopped by during the late May bank holiday off Rick Steve recommendation and loved it.\\n',\n",
              " 'The selection on the menu was great and so were the prices.\\n',\n",
              " 'Now I am getting angry and I want my damn pho.\\n',\n",
              " \"Honeslty it didn't taste THAT fresh.)\\n\",\n",
              " 'The potatoes were like rubber and you could tell they had been made up ahead of time being kept under a warmer.\\n',\n",
              " 'The fries were great too.\\n',\n",
              " 'A great touch.\\n']"
            ]
          },
          "metadata": {},
          "execution_count": 5
        }
      ]
    },
    {
      "cell_type": "markdown",
      "source": [
        "#**Parte 2: sección de preguntas (regex).**   \n"
      ],
      "metadata": {
        "id": "k_ewoagic5jc"
      }
    },
    {
      "cell_type": "markdown",
      "source": [
        "##**Instrucciones:**\n",
        "\n",
        "###**A continuación deberás contestar cada una de las preguntas que te piden usando expresiones regulares (regex).**\n",
        "\n",
        "###**Por el momento no hay restricción en cuanto al número de líneas de código que agregues, pero trata de incluir las mínimas posibles.**"
      ],
      "metadata": {
        "id": "X-eMJa3DFCIV"
      }
    },
    {
      "cell_type": "markdown",
      "source": [
        "*   **Pregunta 1.**\n",
        "\n",
        "Busca y elimina todos los saltos de línea '\\n' que se encuentran al final de cada comentario.\n",
        "\n",
        "Una vez finalizado, imprime los primeros 10 comentarios del resultado obtenido.\n"
      ],
      "metadata": {
        "id": "78nJMemzn5a5"
      }
    },
    {
      "cell_type": "code",
      "source": [
        "new_docs = [re.sub(r'\\n', r'', doc) for doc in docs]"
      ],
      "metadata": {
        "id": "PwbYYIuZn8pE"
      },
      "execution_count": 10,
      "outputs": []
    },
    {
      "cell_type": "code",
      "source": [
        "new_docs[0:10]"
      ],
      "metadata": {
        "id": "j-0qeh2Jn8l1",
        "colab": {
          "base_uri": "https://localhost:8080/"
        },
        "outputId": "fe702068-460e-4055-bd42-29f4e89a6dc3"
      },
      "execution_count": 11,
      "outputs": [
        {
          "output_type": "execute_result",
          "data": {
            "text/plain": [
              "['Wow... Loved this place.',\n",
              " 'Crust is not good.',\n",
              " 'Not tasty and the texture was just nasty.',\n",
              " 'Stopped by during the late May bank holiday off Rick Steve recommendation and loved it.',\n",
              " 'The selection on the menu was great and so were the prices.',\n",
              " 'Now I am getting angry and I want my damn pho.',\n",
              " \"Honeslty it didn't taste THAT fresh.)\",\n",
              " 'The potatoes were like rubber and you could tell they had been made up ahead of time being kept under a warmer.',\n",
              " 'The fries were great too.',\n",
              " 'A great touch.']"
            ]
          },
          "metadata": {},
          "execution_count": 11
        }
      ]
    },
    {
      "cell_type": "markdown",
      "source": [
        "*   **Pregunta 2.**  \n",
        "\n",
        "Busca e imprime todas las palabras que terminan con dos o más signos de admiración seguidos, por ejemplo \"!!!\".\n",
        "\n",
        "Debes imprimir tanto la palabra como la totalidad de signos de admiración que le siguen.\n",
        "\n",
        "Indica cuántos resultados obtuviste.\n",
        "\n"
      ],
      "metadata": {
        "id": "VWeKQC93ctEo"
      }
    },
    {
      "cell_type": "code",
      "source": [
        "pattern_complete_word = r'\\b\\w+[!¡]{2,}'\n",
        "pattern_admiracion = r'\\b\\w+([!¡]{2,})'\n",
        "casos = [(re.findall(pattern_complete_word, doc), re.findall(pattern_admiracion, doc)) for doc in new_docs]\n",
        "casos = [(re.sub(r'[!¡]', '', word[0]), len(admir[0])) for word, admir in casos if word]"
      ],
      "metadata": {
        "id": "0p3kMXfddICc"
      },
      "execution_count": 20,
      "outputs": []
    },
    {
      "cell_type": "code",
      "source": [
        "casos"
      ],
      "metadata": {
        "colab": {
          "base_uri": "https://localhost:8080/"
        },
        "id": "tPhGqTzq9wa1",
        "outputId": "917e050d-d954-4397-da34-5b65c29a8ced"
      },
      "execution_count": 21,
      "outputs": [
        {
          "output_type": "execute_result",
          "data": {
            "text/plain": [
              "[('Firehouse', 5),\n",
              " ('APPETIZERS', 3),\n",
              " ('amazing', 3),\n",
              " ('buffet', 3),\n",
              " ('good', 2),\n",
              " ('it', 4),\n",
              " ('DELICIOUS', 2),\n",
              " ('amazing', 2),\n",
              " ('shawarrrrrrma', 6),\n",
              " ('yucky', 3),\n",
              " ('steak', 5),\n",
              " ('delicious', 3),\n",
              " ('far', 2),\n",
              " ('biscuits', 3),\n",
              " ('dry', 2),\n",
              " ('disappointing', 3),\n",
              " ('awesome', 2),\n",
              " ('Up', 2),\n",
              " ('FLY', 8),\n",
              " ('here', 3),\n",
              " ('great', 14),\n",
              " ('packed', 2),\n",
              " ('otherwise', 2),\n",
              " ('amazing', 19),\n",
              " ('style', 2),\n",
              " ('disappointed', 2)]"
            ]
          },
          "metadata": {},
          "execution_count": 21
        }
      ]
    },
    {
      "cell_type": "markdown",
      "source": [
        "*   **Pregunta 3.**  \n",
        "\n",
        "Busca e imprime todas las palabras que están escritas totalmente en mayúsculas. Cada coincidencia debe ser una sola palabra.\n",
        "\n",
        "Indica cuántas palabras encontraste.\n",
        "\n"
      ],
      "metadata": {
        "id": "-s3okBqL96TT"
      }
    },
    {
      "cell_type": "code",
      "source": [
        "pattern = r'\\b[A-Z]+\\b'"
      ],
      "metadata": {
        "id": "yKHJkZKo_nW5"
      },
      "execution_count": 35,
      "outputs": []
    },
    {
      "cell_type": "code",
      "source": [
        "upper_case_words = []\n",
        "\n",
        "for doc in new_docs:\n",
        "    result = re.findall(pattern, doc)\n",
        "    upper_case_words.extend(result)"
      ],
      "metadata": {
        "id": "L3q08aq69sNn"
      },
      "execution_count": 38,
      "outputs": []
    },
    {
      "cell_type": "markdown",
      "source": [
        "En total hay 455 palabras en mayusculas, pero muchas de ellas son \"I\" que es un pronombre personal y tambien es una palabra"
      ],
      "metadata": {
        "id": "HZFgX_7EC9km"
      }
    },
    {
      "cell_type": "code",
      "source": [
        "upper_case_words, len(upper_case_words)"
      ],
      "metadata": {
        "colab": {
          "base_uri": "https://localhost:8080/"
        },
        "id": "KPMRXR72Cv4p",
        "outputId": "02ce7af0-ba5e-4cad-9300-e4d529115917"
      },
      "execution_count": 40,
      "outputs": [
        {
          "output_type": "execute_result",
          "data": {
            "text/plain": [
              "(['I',\n",
              "  'I',\n",
              "  'THAT',\n",
              "  'A',\n",
              "  'I',\n",
              "  'I',\n",
              "  'I',\n",
              "  'I',\n",
              "  'I',\n",
              "  'I',\n",
              "  'I',\n",
              "  'I',\n",
              "  'I',\n",
              "  'I',\n",
              "  'I',\n",
              "  'I',\n",
              "  'APPETIZERS',\n",
              "  'A',\n",
              "  'I',\n",
              "  'I',\n",
              "  'I',\n",
              "  'I',\n",
              "  'I',\n",
              "  'I',\n",
              "  'I',\n",
              "  'WILL',\n",
              "  'NEVER',\n",
              "  'EVER',\n",
              "  'STEP',\n",
              "  'FORWARD',\n",
              "  'IN',\n",
              "  'IT',\n",
              "  'AGAIN',\n",
              "  'I',\n",
              "  'LOVED',\n",
              "  'I',\n",
              "  'AND',\n",
              "  'REAL',\n",
              "  'I',\n",
              "  'I',\n",
              "  'I',\n",
              "  'I',\n",
              "  'BITCHES',\n",
              "  'I',\n",
              "  'I',\n",
              "  'I',\n",
              "  'I',\n",
              "  'NYC',\n",
              "  'I',\n",
              "  'I',\n",
              "  'I',\n",
              "  'I',\n",
              "  'I',\n",
              "  'I',\n",
              "  'I',\n",
              "  'STALE',\n",
              "  'I',\n",
              "  'I',\n",
              "  'DELICIOUS',\n",
              "  'I',\n",
              "  'I',\n",
              "  'I',\n",
              "  'I',\n",
              "  'I',\n",
              "  'I',\n",
              "  'I',\n",
              "  'I',\n",
              "  'I',\n",
              "  'I',\n",
              "  'I',\n",
              "  'I',\n",
              "  'I',\n",
              "  'I',\n",
              "  'I',\n",
              "  'WORST',\n",
              "  'EXPERIENCE',\n",
              "  'EVER',\n",
              "  'I',\n",
              "  'ALL',\n",
              "  'I',\n",
              "  'BARGAIN',\n",
              "  'I',\n",
              "  'TV',\n",
              "  'NONE',\n",
              "  'I',\n",
              "  'M',\n",
              "  'FREEZING',\n",
              "  'AYCE',\n",
              "  'I',\n",
              "  'I',\n",
              "  'I',\n",
              "  'I',\n",
              "  'I',\n",
              "  'I',\n",
              "  'I',\n",
              "  'I',\n",
              "  'I',\n",
              "  'I',\n",
              "  'I',\n",
              "  'I',\n",
              "  'I',\n",
              "  'FLAVOR',\n",
              "  'I',\n",
              "  'I',\n",
              "  'I',\n",
              "  'I',\n",
              "  'I',\n",
              "  'I',\n",
              "  'I',\n",
              "  'I',\n",
              "  'I',\n",
              "  'I',\n",
              "  'I',\n",
              "  'I',\n",
              "  'I',\n",
              "  'I',\n",
              "  'I',\n",
              "  'I',\n",
              "  'I',\n",
              "  'I',\n",
              "  'NEVER',\n",
              "  'I',\n",
              "  'I',\n",
              "  'I',\n",
              "  'I',\n",
              "  'BBQ',\n",
              "  'I',\n",
              "  'A',\n",
              "  'I',\n",
              "  'UNREAL',\n",
              "  'I',\n",
              "  'I',\n",
              "  'I',\n",
              "  'I',\n",
              "  'I',\n",
              "  'I',\n",
              "  'OMG',\n",
              "  'I',\n",
              "  'BETTER',\n",
              "  'I',\n",
              "  'I',\n",
              "  'BLAND',\n",
              "  'I',\n",
              "  'I',\n",
              "  'I',\n",
              "  'I',\n",
              "  'I',\n",
              "  'I',\n",
              "  'I',\n",
              "  'RUDE',\n",
              "  'INCONSIDERATE',\n",
              "  'MANAGEMENT',\n",
              "  'I',\n",
              "  'I',\n",
              "  'WILL',\n",
              "  'NEVER',\n",
              "  'EVER',\n",
              "  'GO',\n",
              "  'BACK',\n",
              "  'AND',\n",
              "  'HAVE',\n",
              "  'TOLD',\n",
              "  'MANY',\n",
              "  'PEOPLE',\n",
              "  'WHAT',\n",
              "  'HAD',\n",
              "  'HAPPENED',\n",
              "  'I',\n",
              "  'I',\n",
              "  'I',\n",
              "  'I',\n",
              "  'I',\n",
              "  'I',\n",
              "  'I',\n",
              "  'I',\n",
              "  'I',\n",
              "  'I',\n",
              "  'I',\n",
              "  'I',\n",
              "  'I',\n",
              "  'TOTAL',\n",
              "  'WASTE',\n",
              "  'OF',\n",
              "  'TIME',\n",
              "  'I',\n",
              "  'I',\n",
              "  'I',\n",
              "  'I',\n",
              "  'I',\n",
              "  'I',\n",
              "  'I',\n",
              "  'I',\n",
              "  'I',\n",
              "  'I',\n",
              "  'I',\n",
              "  'I',\n",
              "  'I',\n",
              "  'I',\n",
              "  'I',\n",
              "  'FS',\n",
              "  'I',\n",
              "  'I',\n",
              "  'I',\n",
              "  'I',\n",
              "  'I',\n",
              "  'I',\n",
              "  'I',\n",
              "  'I',\n",
              "  'I',\n",
              "  'AZ',\n",
              "  'I',\n",
              "  'I',\n",
              "  'I',\n",
              "  'I',\n",
              "  'LOVED',\n",
              "  'I',\n",
              "  'I',\n",
              "  'I',\n",
              "  'I',\n",
              "  'I',\n",
              "  'I',\n",
              "  'CONCLUSION',\n",
              "  'I',\n",
              "  'I',\n",
              "  'I',\n",
              "  'I',\n",
              "  'I',\n",
              "  'I',\n",
              "  'BEST',\n",
              "  'I',\n",
              "  'GO',\n",
              "  'NOW',\n",
              "  'A',\n",
              "  'I',\n",
              "  'I',\n",
              "  'GC',\n",
              "  'I',\n",
              "  'I',\n",
              "  'I',\n",
              "  'I',\n",
              "  'I',\n",
              "  'I',\n",
              "  'I',\n",
              "  'I',\n",
              "  'I',\n",
              "  'I',\n",
              "  'I',\n",
              "  'AVOID',\n",
              "  'THIS',\n",
              "  'ESTABLISHMENT',\n",
              "  'I',\n",
              "  'I',\n",
              "  'I',\n",
              "  'A',\n",
              "  'I',\n",
              "  'I',\n",
              "  'AN',\n",
              "  'HOUR',\n",
              "  'I',\n",
              "  'I',\n",
              "  'I',\n",
              "  'I',\n",
              "  'I',\n",
              "  'I',\n",
              "  'I',\n",
              "  'I',\n",
              "  'NASTY',\n",
              "  'OMG',\n",
              "  'I',\n",
              "  'I',\n",
              "  'NO',\n",
              "  'I',\n",
              "  'I',\n",
              "  'I',\n",
              "  'BEST',\n",
              "  'I',\n",
              "  'I',\n",
              "  'I',\n",
              "  'I',\n",
              "  'THE',\n",
              "  'OWNERS',\n",
              "  'REALLY',\n",
              "  'REALLY',\n",
              "  'I',\n",
              "  'I',\n",
              "  'I',\n",
              "  'I',\n",
              "  'I',\n",
              "  'I',\n",
              "  'I',\n",
              "  'I',\n",
              "  'I',\n",
              "  'I',\n",
              "  'I',\n",
              "  'I',\n",
              "  'PERFECT',\n",
              "  'SCREAMS',\n",
              "  'LEGIT',\n",
              "  'I',\n",
              "  'MGM',\n",
              "  'I',\n",
              "  'I',\n",
              "  'I',\n",
              "  'A',\n",
              "  'I',\n",
              "  'I',\n",
              "  'I',\n",
              "  'I',\n",
              "  'I',\n",
              "  'I',\n",
              "  'I',\n",
              "  'I',\n",
              "  'I',\n",
              "  'I',\n",
              "  'I',\n",
              "  'I',\n",
              "  'BEST',\n",
              "  'I',\n",
              "  'I',\n",
              "  'T',\n",
              "  'A',\n",
              "  'FLY',\n",
              "  'A',\n",
              "  'FLY',\n",
              "  'I',\n",
              "  'I',\n",
              "  'I',\n",
              "  'I',\n",
              "  'I',\n",
              "  'I',\n",
              "  'I',\n",
              "  'I',\n",
              "  'I',\n",
              "  'I',\n",
              "  'I',\n",
              "  'I',\n",
              "  'FANTASTIC',\n",
              "  'I',\n",
              "  'I',\n",
              "  'I',\n",
              "  'I',\n",
              "  'GREAT',\n",
              "  'OK',\n",
              "  'I',\n",
              "  'I',\n",
              "  'WAY',\n",
              "  'I',\n",
              "  'I',\n",
              "  'MUST',\n",
              "  'HAVE',\n",
              "  'I',\n",
              "  'I',\n",
              "  'I',\n",
              "  'I',\n",
              "  'I',\n",
              "  'I',\n",
              "  'OK',\n",
              "  'I',\n",
              "  'I',\n",
              "  'I',\n",
              "  'I',\n",
              "  'OVERPRICED',\n",
              "  'I',\n",
              "  'I',\n",
              "  'I',\n",
              "  'I',\n",
              "  'I',\n",
              "  'I',\n",
              "  'I',\n",
              "  'I',\n",
              "  'I',\n",
              "  'I',\n",
              "  'I',\n",
              "  'I',\n",
              "  'I',\n",
              "  'I',\n",
              "  'I',\n",
              "  'I',\n",
              "  'I',\n",
              "  'I',\n",
              "  'I',\n",
              "  'I',\n",
              "  'I',\n",
              "  'I',\n",
              "  'I',\n",
              "  'I',\n",
              "  'I',\n",
              "  'BARE',\n",
              "  'HANDS',\n",
              "  'I',\n",
              "  'I',\n",
              "  'I',\n",
              "  'I',\n",
              "  'I',\n",
              "  'I',\n",
              "  'I',\n",
              "  'I',\n",
              "  'I',\n",
              "  'I',\n",
              "  'I',\n",
              "  'I',\n",
              "  'I',\n",
              "  'I',\n",
              "  'I',\n",
              "  'WEAK',\n",
              "  'I',\n",
              "  'I',\n",
              "  'I',\n",
              "  'I',\n",
              "  'I',\n",
              "  'I',\n",
              "  'I',\n",
              "  'I',\n",
              "  'SHOULD',\n",
              "  'I',\n",
              "  'I',\n",
              "  'I',\n",
              "  'RI',\n",
              "  'I',\n",
              "  'I',\n",
              "  'I',\n",
              "  'I',\n",
              "  'I',\n",
              "  'I',\n",
              "  'I',\n",
              "  'VERY',\n",
              "  'I',\n",
              "  'I',\n",
              "  'I',\n",
              "  'NOT',\n",
              "  'I',\n",
              "  'I',\n",
              "  'I',\n",
              "  'I',\n",
              "  'I',\n",
              "  'I',\n",
              "  'I',\n",
              "  'I',\n",
              "  'I',\n",
              "  'I',\n",
              "  'I',\n",
              "  'I',\n",
              "  'I',\n",
              "  'I',\n",
              "  'I',\n",
              "  'I',\n",
              "  'I',\n",
              "  'I',\n",
              "  'A',\n",
              "  'I',\n",
              "  'I',\n",
              "  'I',\n",
              "  'I',\n",
              "  'I',\n",
              "  'I'],\n",
              " 455)"
            ]
          },
          "metadata": {},
          "execution_count": 40
        }
      ]
    },
    {
      "cell_type": "markdown",
      "source": [
        "*   **Pregunta 4.**  \n",
        "\n",
        "Busca e imprime los comentarios en donde todos los caracteres alfabéticos (letras) están en mayúsculas.\n",
        "\n",
        "Cada coincidencia encontrada debe ser todo el comentario/enunciado.\n",
        "\n",
        "Indica cuántos resultados obtuviste.\n"
      ],
      "metadata": {
        "id": "GX8eYyDoMZma"
      }
    },
    {
      "cell_type": "code",
      "source": [
        "pattern = re.compile(r'^(?=.*[A-Z])[^a-z]*$')\n",
        "todo_upper_case = [doc for doc in new_docs if pattern.match(doc)]"
      ],
      "metadata": {
        "id": "K8VuZxvTMYj6"
      },
      "execution_count": 42,
      "outputs": []
    },
    {
      "cell_type": "code",
      "source": [
        "print(f\"Numero de matches: {len(todo_upper_case)}\")\n",
        "todo_upper_case"
      ],
      "metadata": {
        "id": "PmKgX7sCMcDx",
        "colab": {
          "base_uri": "https://localhost:8080/"
        },
        "outputId": "0e169540-02b5-43d6-c20e-3f35a5d26753"
      },
      "execution_count": 45,
      "outputs": [
        {
          "output_type": "stream",
          "name": "stdout",
          "text": [
            "Numero de matches: 5\n"
          ]
        },
        {
          "output_type": "execute_result",
          "data": {
            "text/plain": [
              "['DELICIOUS!!',\n",
              " 'RUDE & INCONSIDERATE MANAGEMENT.',\n",
              " 'WILL NEVER EVER GO BACK AND HAVE TOLD MANY PEOPLE WHAT HAD HAPPENED.',\n",
              " 'TOTAL WASTE OF TIME.',\n",
              " 'AVOID THIS ESTABLISHMENT!']"
            ]
          },
          "metadata": {},
          "execution_count": 45
        }
      ]
    },
    {
      "cell_type": "markdown",
      "source": [
        "*   **Pregunta 5.**  \n",
        "\n",
        "Busca e imprime todas las palabras que tengan una vocal acentuada, del tipo á, é, í, ó, ú.\n",
        "\n",
        "Indica cuántos resultados obtuviste."
      ],
      "metadata": {
        "id": "a1i6qv7-McmU"
      }
    },
    {
      "cell_type": "code",
      "source": [
        "pattern = re.compile(r'\\b\\w*[áéíóú]\\w*\\b')\n",
        "\n",
        "coincidencias = []\n",
        "for texto in new_docs:\n",
        "    coincidencias.extend(pattern.findall(texto))\n",
        "\n",
        "for palabra in coincidencias:\n",
        "    print(palabra)\n",
        "\n",
        "print(f\"\\nTotal de palabras con vocal acentuada: {len(coincidencias)}\")"
      ],
      "metadata": {
        "id": "nZZ5zKUOMeGD",
        "colab": {
          "base_uri": "https://localhost:8080/"
        },
        "outputId": "bf683a9f-4f14-435a-fa00-6ffa1a171d21"
      },
      "execution_count": 46,
      "outputs": [
        {
          "output_type": "stream",
          "name": "stdout",
          "text": [
            "fiancé\n",
            "Café\n",
            "puréed\n",
            "\n",
            "Total de palabras con vocal acentuada: 3\n"
          ]
        }
      ]
    },
    {
      "cell_type": "code",
      "source": [],
      "metadata": {
        "id": "l1mFvUEZMe8s"
      },
      "execution_count": null,
      "outputs": []
    },
    {
      "cell_type": "markdown",
      "source": [
        "*   **Pregunta 6.**  \n",
        "\n",
        "Busca e imprime todas las cantidades numéricas monetarias, enteras o con decimales, que inician con el símbolo $\\$$.\n",
        "\n",
        "Indica cuántos resultados obtuviste."
      ],
      "metadata": {
        "id": "ZmPiAI82Mfb3"
      }
    },
    {
      "cell_type": "code",
      "source": [
        "pattern = re.compile(r'\\$\\d+(?:\\.\\d+)?')\n",
        "\n",
        "resultados = []\n",
        "for texto in new_docs:\n",
        "    resultados.extend(pattern.findall(texto))\n",
        "\n",
        "for importe in resultados:\n",
        "    print(importe)\n",
        "\n",
        "print(f\"\\nTotal de importes encontrados: {len(resultados)}\")"
      ],
      "metadata": {
        "id": "6vhe9-Y-MhL9",
        "colab": {
          "base_uri": "https://localhost:8080/"
        },
        "outputId": "048e5e9c-10ef-4f5b-e7f3-e86a00c8e0d5"
      },
      "execution_count": 48,
      "outputs": [
        {
          "output_type": "stream",
          "name": "stdout",
          "text": [
            "$20\n",
            "$4.00\n",
            "$17\n",
            "$3\n",
            "$35\n",
            "$7.85\n",
            "$12\n",
            "$11.99\n",
            "\n",
            "Total de importes encontrados: 8\n"
          ]
        }
      ]
    },
    {
      "cell_type": "code",
      "source": [],
      "metadata": {
        "id": "_t0a5xWDMhQ5"
      },
      "execution_count": null,
      "outputs": []
    },
    {
      "cell_type": "markdown",
      "source": [
        "*   **Pregunta 7.**  \n",
        "\n",
        "Busca e imprime todas las palabras que sean variantes de la palabra \"love\", sin importar si incluyen mayúsculas o minúsculas, o la manera en que esté conjugada o alguna otra variación que se haga con dicha palabra.\n",
        "\n",
        "Indica cuántos resultados obtuviste."
      ],
      "metadata": {
        "id": "2j-HpvhwMhq2"
      }
    },
    {
      "cell_type": "code",
      "source": [
        "pattern = re.compile(r'\\b(?:lov\\w*)\\b', re.IGNORECASE)\n",
        "\n",
        "coincidencias = []\n",
        "for texto in new_docs:\n",
        "    coincidencias.extend(pattern.findall(texto))\n",
        "\n",
        "print(f\"\\nTotal de palabras encontradas: {len(coincidencias)}\")"
      ],
      "metadata": {
        "id": "kqqyRChVMjol",
        "colab": {
          "base_uri": "https://localhost:8080/"
        },
        "outputId": "1c224b33-20ae-4550-b5a8-597403ab790f"
      },
      "execution_count": 60,
      "outputs": [
        {
          "output_type": "stream",
          "name": "stdout",
          "text": [
            "\n",
            "Total de palabras encontradas: 36\n"
          ]
        }
      ]
    },
    {
      "cell_type": "code",
      "source": [
        "coincidencias"
      ],
      "metadata": {
        "id": "UXd0VQluMj_x",
        "colab": {
          "base_uri": "https://localhost:8080/"
        },
        "outputId": "2ff7edbb-d6c2-4742-b209-9ead76f36070"
      },
      "execution_count": 61,
      "outputs": [
        {
          "output_type": "execute_result",
          "data": {
            "text/plain": [
              "['Loved',\n",
              " 'loved',\n",
              " 'Loved',\n",
              " 'love',\n",
              " 'loves',\n",
              " 'LOVED',\n",
              " 'lovers',\n",
              " 'loving',\n",
              " 'love',\n",
              " 'lovers',\n",
              " 'Love',\n",
              " 'loved',\n",
              " 'loved',\n",
              " 'love',\n",
              " 'love',\n",
              " 'love',\n",
              " 'loved',\n",
              " 'love',\n",
              " 'loved',\n",
              " 'Love',\n",
              " 'LOVED',\n",
              " 'love',\n",
              " 'lovely',\n",
              " 'love',\n",
              " 'lovely',\n",
              " 'love',\n",
              " 'lover',\n",
              " 'loved',\n",
              " 'love',\n",
              " 'love',\n",
              " 'love',\n",
              " 'love',\n",
              " 'love',\n",
              " 'love',\n",
              " 'love',\n",
              " 'love']"
            ]
          },
          "metadata": {},
          "execution_count": 61
        }
      ]
    },
    {
      "cell_type": "markdown",
      "source": [
        "*   **Pregunta 8.**  \n",
        "\n",
        "Busca e imprime todas las palabras, variantes de \"so\" y \"good\", que tengan dos o más \"o\" en \"so\" y 3 o más \"o\" en good.\n",
        "\n",
        "Indica cuántas encontraste.\n"
      ],
      "metadata": {
        "id": "Ctb-NTY3MkYG"
      }
    },
    {
      "cell_type": "code",
      "source": [
        "patron = re.compile(r'\\b(?:s[o]{2,}|g[o]{3,}d)\\b', re.IGNORECASE)\n",
        "\n",
        "\n",
        "coincidencias = []\n",
        "for texto in new_docs:\n",
        "    coincidencias.extend(patron.findall(texto))\n",
        "\n",
        "\n",
        "for palabra in coincidencias:\n",
        "    print(palabra)\n",
        "\n",
        "\n",
        "print(f\"\\nTotal de variantes encontradas: {len(coincidencias)}\")"
      ],
      "metadata": {
        "id": "A8Nf3B_cMlqg",
        "colab": {
          "base_uri": "https://localhost:8080/"
        },
        "outputId": "425e6354-4503-4467-8217-6423a89268e9"
      },
      "execution_count": 67,
      "outputs": [
        {
          "output_type": "stream",
          "name": "stdout",
          "text": [
            "Sooooo\n",
            "soooo\n",
            "soooooo\n",
            "soooo\n",
            "\n",
            "Total de variantes encontradas: 4\n"
          ]
        }
      ]
    },
    {
      "cell_type": "code",
      "source": [],
      "metadata": {
        "id": "svS4-vvPMl6f"
      },
      "execution_count": null,
      "outputs": []
    },
    {
      "cell_type": "markdown",
      "source": [
        "*   **Pregunta 9.**  \n",
        "\n",
        "Busca e imprime todas las palabras que tengan una longitud mayor estrictamente a 10 caracteres alfabéticos.\n",
        "\n",
        "No se consideran los signos de puntuación o caracteres especiales en la longitud de estas cadenas, solo caracteres alfabéticos en mayúsculas o minúsculas.\n",
        "\n",
        "Indica la cantidad de palabras encontradas.\n"
      ],
      "metadata": {
        "id": "hkak1opjMmlk"
      }
    },
    {
      "cell_type": "code",
      "source": [
        "patrón = re.compile(r'\\b[A-Za-z]{11,}\\b')\n",
        "\n",
        "coincidencias = []\n",
        "for texto in new_docs:\n",
        "    coincidencias.extend(patrón.findall(texto))\n",
        "\n",
        "coincidencias"
      ],
      "metadata": {
        "id": "PYxdp3uhMoD0",
        "colab": {
          "base_uri": "https://localhost:8080/"
        },
        "outputId": "e084b2df-f89c-4ee8-d47b-4d29e038845d"
      },
      "execution_count": 68,
      "outputs": [
        {
          "output_type": "execute_result",
          "data": {
            "text/plain": [
              "['recommendation',\n",
              " 'recommended',\n",
              " 'overwhelmed',\n",
              " 'inexpensive',\n",
              " 'establishment',\n",
              " 'imaginative',\n",
              " 'opportunity',\n",
              " 'experiencing',\n",
              " 'underwhelming',\n",
              " 'relationship',\n",
              " 'unsatisfying',\n",
              " 'disappointing',\n",
              " 'outrageously',\n",
              " 'disappointing',\n",
              " 'expectations',\n",
              " 'restaurants',\n",
              " 'suggestions',\n",
              " 'disappointed',\n",
              " 'considering',\n",
              " 'Unfortunately',\n",
              " 'immediately',\n",
              " 'ingredients',\n",
              " 'accommodations',\n",
              " 'maintaining',\n",
              " 'Interesting',\n",
              " 'disrespected',\n",
              " 'accordingly',\n",
              " 'unbelievable',\n",
              " 'cheeseburger',\n",
              " 'descriptions',\n",
              " 'inexpensive',\n",
              " 'disappointed',\n",
              " 'Veggitarian',\n",
              " 'outstanding',\n",
              " 'recommendation',\n",
              " 'disappointed',\n",
              " 'disappointed',\n",
              " 'neighborhood',\n",
              " 'disappointed',\n",
              " 'corporation',\n",
              " 'considering',\n",
              " 'exceptional',\n",
              " 'shawarrrrrrma',\n",
              " 'disappointed',\n",
              " 'vinaigrette',\n",
              " 'immediately',\n",
              " 'unbelievably',\n",
              " 'replenished',\n",
              " 'disappointed',\n",
              " 'enthusiastic',\n",
              " 'Outstanding',\n",
              " 'comfortable',\n",
              " 'interesting',\n",
              " 'INCONSIDERATE',\n",
              " 'considering',\n",
              " 'transcendant',\n",
              " 'disappointment',\n",
              " 'disappointed',\n",
              " 'disappointed',\n",
              " 'overwhelmed',\n",
              " 'professional',\n",
              " 'Furthermore',\n",
              " 'combination',\n",
              " 'connoisseur',\n",
              " 'profiterole',\n",
              " 'outstanding',\n",
              " 'acknowledged',\n",
              " 'ventilation',\n",
              " 'beautifully',\n",
              " 'establishment',\n",
              " 'extraordinary',\n",
              " 'disappointed',\n",
              " 'cheesecurds',\n",
              " 'disappointed',\n",
              " 'interesting',\n",
              " 'experienced',\n",
              " 'opportunity',\n",
              " 'disgraceful',\n",
              " 'restaurants',\n",
              " 'ESTABLISHMENT',\n",
              " 'recommended',\n",
              " 'disappointed',\n",
              " 'recommended',\n",
              " 'acknowledged',\n",
              " 'presentation',\n",
              " 'Philadelphia',\n",
              " 'disappointed',\n",
              " 'disappointing',\n",
              " 'grandmother',\n",
              " 'drastically',\n",
              " 'informative',\n",
              " 'Disappointed',\n",
              " 'constructed',\n",
              " 'comfortable',\n",
              " 'Smashburger',\n",
              " 'cheeseburger',\n",
              " 'neighborhood',\n",
              " 'disappointed',\n",
              " 'hospitality',\n",
              " 'recommending',\n",
              " 'disappointed',\n",
              " 'deliciously',\n",
              " 'compliments',\n",
              " 'recommendation',\n",
              " 'establishment',\n",
              " 'calligraphy',\n",
              " 'traditional',\n",
              " 'combination',\n",
              " 'Unfortunately',\n",
              " 'Wienerschnitzel',\n",
              " 'unfortunately',\n",
              " 'considering',\n",
              " 'highlighted',\n",
              " 'Mediterranean',\n",
              " 'unprofessional',\n",
              " 'anticipated',\n",
              " 'disappointing',\n",
              " 'unexperienced',\n",
              " 'disrespected',\n",
              " 'professional',\n",
              " 'restaurants',\n",
              " 'Disappointing',\n",
              " 'WAAAAAAyyyyyyyyyy',\n",
              " 'reservation',\n",
              " 'imagination',\n",
              " 'undercooked',\n",
              " 'disappointed',\n",
              " 'disappointment',\n",
              " 'disappointment',\n",
              " 'deuchebaggery',\n",
              " 'disappointed',\n",
              " 'disappointment',\n",
              " 'immediately',\n",
              " 'Unfortunately',\n",
              " 'disapppointment',\n",
              " 'circumstances',\n",
              " 'undercooked',\n",
              " 'caterpillar',\n",
              " 'presentation',\n",
              " 'disappointed',\n",
              " 'underwhelming']"
            ]
          },
          "metadata": {},
          "execution_count": 68
        }
      ]
    },
    {
      "cell_type": "code",
      "source": [
        "print(f\"\\nTotal de palabras con más de 10 letras: {len(coincidencias)}\")"
      ],
      "metadata": {
        "id": "BR7e2F4FMof-",
        "colab": {
          "base_uri": "https://localhost:8080/"
        },
        "outputId": "7a924a44-471a-496f-9910-2cb75cbb937a"
      },
      "execution_count": 69,
      "outputs": [
        {
          "output_type": "stream",
          "name": "stdout",
          "text": [
            "\n",
            "Total de palabras con más de 10 letras: 141\n"
          ]
        }
      ]
    },
    {
      "cell_type": "markdown",
      "source": [
        "*   **Pregunta 10.**  \n",
        "\n",
        "Busca e imprime todas las palabras que inician con una letra mayúscula y terminan con una minúscula, pero que además no sea la primera palabra del comentario/string.\n",
        "\n",
        "Indica la cantidad de resultados obtenidos."
      ],
      "metadata": {
        "id": "ApjTNzSxMpDc"
      }
    },
    {
      "cell_type": "code",
      "source": [
        "patrón = re.compile(r'(?<=\\s)[A-Z][A-Za-z]*[a-z]\\b')\n",
        "\n",
        "coincidencias = []\n",
        "for texto in new_docs:\n",
        "    coincidencias.extend(patrón.findall(texto))\n",
        "\n",
        "coincidencias"
      ],
      "metadata": {
        "id": "Vb0ndRGAMqdL",
        "colab": {
          "base_uri": "https://localhost:8080/"
        },
        "outputId": "826de24d-ac71-462e-d6d8-94524f46f0d1"
      },
      "execution_count": 70,
      "outputs": [
        {
          "output_type": "execute_result",
          "data": {
            "text/plain": [
              "['Loved',\n",
              " 'May',\n",
              " 'Rick',\n",
              " 'Steve',\n",
              " 'Cape',\n",
              " 'Cod',\n",
              " 'Vegas',\n",
              " 'Burrittos',\n",
              " 'Blah',\n",
              " 'The',\n",
              " 'They',\n",
              " 'Mexican',\n",
              " 'Luke',\n",
              " 'Our',\n",
              " 'Hiro',\n",
              " 'Firehouse',\n",
              " 'Greek',\n",
              " 'Greek',\n",
              " 'Heart',\n",
              " 'Attack',\n",
              " 'Grill',\n",
              " 'Vegas',\n",
              " 'Dos',\n",
              " 'Gringos',\n",
              " 'Jeff',\n",
              " 'Really',\n",
              " 'Excalibur',\n",
              " 'Very',\n",
              " 'Bad',\n",
              " 'Customer',\n",
              " 'Service',\n",
              " 'Vegas',\n",
              " 'Rice',\n",
              " 'Company',\n",
              " 'Pho',\n",
              " 'Hard',\n",
              " 'Rock',\n",
              " 'Casino',\n",
              " 'Buffet',\n",
              " 'Tigerlilly',\n",
              " 'Yama',\n",
              " 'Thai',\n",
              " 'Indian',\n",
              " 'Not',\n",
              " 'Vegas',\n",
              " 'Lox',\n",
              " 'Subway',\n",
              " 'Subway',\n",
              " 'Vegas',\n",
              " 'Vegas',\n",
              " 'Mandalay',\n",
              " 'Bay',\n",
              " 'Great',\n",
              " 'Voodoo',\n",
              " 'Phoenix',\n",
              " 'Vegas',\n",
              " 'Khao',\n",
              " 'Soi',\n",
              " 'Lemon',\n",
              " 'Joey',\n",
              " 'Valley',\n",
              " 'Phoenix',\n",
              " 'Magazine',\n",
              " 'Pho',\n",
              " 'Fridays',\n",
              " 'Tasty',\n",
              " 'Jamaican',\n",
              " 'Bisque',\n",
              " 'Bussell',\n",
              " 'Sprouts',\n",
              " 'Risotto',\n",
              " 'Filet',\n",
              " 'Otto',\n",
              " 'Yeah',\n",
              " 'Honestly',\n",
              " 'Not',\n",
              " 'Also',\n",
              " 'Vegas',\n",
              " 'Greek',\n",
              " 'Vegas',\n",
              " 'Veggitarian',\n",
              " 'Madison',\n",
              " 'Ironman',\n",
              " 'Jenni',\n",
              " 'Pho',\n",
              " 'Bachi',\n",
              " 'Burger',\n",
              " 'Pizza',\n",
              " 'Salads',\n",
              " 'They',\n",
              " 'Yelpers',\n",
              " 'Bachi',\n",
              " 'Service',\n",
              " 'English',\n",
              " 'Pizza',\n",
              " 'Hut',\n",
              " 'Seat',\n",
              " 'Standard',\n",
              " 'Thai',\n",
              " 'Tucson',\n",
              " 'Vegas',\n",
              " 'Chipotle',\n",
              " 'Gordon',\n",
              " 'Ramsey',\n",
              " 'Steak',\n",
              " 'Vegas',\n",
              " 'Outstanding',\n",
              " 'Best',\n",
              " 'Food',\n",
              " 'Lobster',\n",
              " 'Bisque',\n",
              " 'Vegas',\n",
              " 'Eggplant',\n",
              " 'Green',\n",
              " 'Bean',\n",
              " 'Halibut',\n",
              " 'Vegas',\n",
              " 'Vegas',\n",
              " 'Vegas',\n",
              " 'Crystals',\n",
              " 'Aria',\n",
              " 'Ians',\n",
              " 'Bouchon',\n",
              " 'San',\n",
              " 'Francisco',\n",
              " 'Bay',\n",
              " 'Area',\n",
              " 'Buldogis',\n",
              " 'Gourmet',\n",
              " 'Hot',\n",
              " 'Dog',\n",
              " 'Steiners',\n",
              " 'Carly',\n",
              " 'Vegas',\n",
              " 'Camelback',\n",
              " 'Flower',\n",
              " 'Shop',\n",
              " 'Cartel',\n",
              " 'Coffee',\n",
              " 'Las',\n",
              " 'Vegas',\n",
              " 'Very',\n",
              " 'Mom',\n",
              " 'Noca',\n",
              " 'Vegas',\n",
              " 'Sat',\n",
              " 'Sun',\n",
              " 'Mexican',\n",
              " 'Frenchman',\n",
              " 'Perfect',\n",
              " 'Vegas',\n",
              " 'Palm',\n",
              " 'This',\n",
              " 'Thai',\n",
              " 'Toast',\n",
              " 'Thai',\n",
              " 'Phoenix',\n",
              " 'Crema',\n",
              " 'Philadelphia',\n",
              " 'North',\n",
              " 'Scottsdale',\n",
              " 'Bloody',\n",
              " 'Mary',\n",
              " 'Pho',\n",
              " 'Caesar',\n",
              " 'Macarons',\n",
              " 'Experience',\n",
              " 'Very',\n",
              " 'Disappointed',\n",
              " 'Big',\n",
              " 'Bay',\n",
              " 'Plater',\n",
              " 'Italian',\n",
              " 'Vegas',\n",
              " 'Baba',\n",
              " 'Ganoush',\n",
              " 'Nobu',\n",
              " 'Smashburger',\n",
              " 'Panna',\n",
              " 'Cotta',\n",
              " 'Breeze',\n",
              " 'Mango',\n",
              " 'Magic',\n",
              " 'Pineapple',\n",
              " 'Delight',\n",
              " 'The',\n",
              " 'Strip',\n",
              " 'Steak',\n",
              " 'Paradise',\n",
              " 'Valley',\n",
              " 'Cibo',\n",
              " 'Thumbs',\n",
              " 'Up',\n",
              " 'Italian',\n",
              " 'Pros',\n",
              " 'Large',\n",
              " 'Nice',\n",
              " 'Great',\n",
              " 'The',\n",
              " 'Elk',\n",
              " 'Filet',\n",
              " 'Dylan',\n",
              " 'All',\n",
              " 'Han',\n",
              " 'Nan',\n",
              " 'Chicken',\n",
              " 'Bar',\n",
              " 'Edinburgh',\n",
              " 'Chinese',\n",
              " 'Indian',\n",
              " 'Chinese',\n",
              " 'Prices',\n",
              " 'Phoenix',\n",
              " 'Both',\n",
              " 'Hot',\n",
              " 'Sour',\n",
              " 'Egg',\n",
              " 'Flower',\n",
              " 'Soups',\n",
              " 'Stars',\n",
              " 'Sunday',\n",
              " 'Hunan',\n",
              " 'The',\n",
              " 'Pita',\n",
              " 'Wienerschnitzel',\n",
              " 'Maine',\n",
              " 'Lobster',\n",
              " 'Roll',\n",
              " 'Kabuki',\n",
              " 'Maria',\n",
              " 'Caballero',\n",
              " 'Wife',\n",
              " 'Strip',\n",
              " 'Costco',\n",
              " 'To',\n",
              " 'Place',\n",
              " 'Gyros',\n",
              " 'Japanese',\n",
              " 'Albondigas',\n",
              " 'Mediterranean',\n",
              " 'Chicken',\n",
              " 'Salad',\n",
              " 'Mellow',\n",
              " 'Mushroom',\n",
              " 'Thai',\n",
              " 'Vegas',\n",
              " 'Mmmm',\n",
              " 'Buffet',\n",
              " 'Bellagio',\n",
              " 'Vegas',\n",
              " 'Christmas',\n",
              " 'Eve',\n",
              " 'Denny',\n",
              " 'Vegetarian',\n",
              " 'Taco',\n",
              " 'Heimer',\n",
              " 'Ha',\n",
              " 'Long',\n",
              " 'Bay',\n",
              " 'Subway',\n",
              " 'When',\n",
              " 'Brushfire',\n",
              " 'Mirage',\n",
              " 'In',\n",
              " 'Ninja',\n",
              " 'Sushi']"
            ]
          },
          "metadata": {},
          "execution_count": 70
        }
      ]
    },
    {
      "cell_type": "code",
      "source": [
        "print(f\"\\nTotal de palabras encontradas: {len(coincidencias)}\")"
      ],
      "metadata": {
        "id": "dLPTRPnTMqqx",
        "colab": {
          "base_uri": "https://localhost:8080/"
        },
        "outputId": "7ff10492-4b4e-4eb4-bb0d-2d841cb96bc7"
      },
      "execution_count": 71,
      "outputs": [
        {
          "output_type": "stream",
          "name": "stdout",
          "text": [
            "\n",
            "Total de palabras encontradas: 266\n"
          ]
        }
      ]
    },
    {
      "cell_type": "markdown",
      "source": [
        "*   **Pregunta 11.**  \n",
        "\n",
        "Busca e imprime la secuencia de dos o más palabras que están separadas por un guion, \"-\", sin que tengan espacios en blanco entre ellas.\n",
        "\n",
        "Por ejemplo \"Go-Kart\" sería válido, pero \"Go  -Kart\" o \"Go  -  Kart\" no lo serían.\n",
        "\n",
        "Indica la cantidad de resultados obtenidos."
      ],
      "metadata": {
        "id": "u7nfm4KhMrNW"
      }
    },
    {
      "cell_type": "code",
      "source": [
        "patron = re.compile(r'\\b[A-Za-z]+(?:-[A-Za-z]+)+\\b')\n",
        "\n",
        "coincidencias = []\n",
        "for texto in new_docs:\n",
        "    coincidencias.extend(patron.findall(texto))\n",
        "\n",
        "for secuencia in coincidencias:\n",
        "    print(secuencia)"
      ],
      "metadata": {
        "id": "OwU-a7eGMsub",
        "colab": {
          "base_uri": "https://localhost:8080/"
        },
        "outputId": "42bdf1e9-986c-40cb-916b-cc75a940a107"
      },
      "execution_count": 72,
      "outputs": [
        {
          "output_type": "stream",
          "name": "stdout",
          "text": [
            "flat-lined\n",
            "hands-down\n",
            "must-stop\n",
            "sub-par\n",
            "Service-check\n",
            "in-house\n",
            "been-stepped-in-and-tracked-everywhere\n",
            "multi-grain\n",
            "to-go\n",
            "non-customer\n",
            "High-quality\n",
            "sit-down\n",
            "over-whelm\n",
            "low-key\n",
            "non-fancy\n",
            "golden-crispy\n",
            "over-priced\n",
            "over-hip\n",
            "under-services\n"
          ]
        }
      ]
    },
    {
      "cell_type": "code",
      "source": [
        "print(f\"\\nTotal de secuencias encontradas: {len(coincidencias)}\")"
      ],
      "metadata": {
        "id": "SgzIL74ZMtGw",
        "colab": {
          "base_uri": "https://localhost:8080/"
        },
        "outputId": "10a99506-043e-4e9e-ca5c-83b02323cd83"
      },
      "execution_count": 73,
      "outputs": [
        {
          "output_type": "stream",
          "name": "stdout",
          "text": [
            "\n",
            "Total de secuencias encontradas: 19\n"
          ]
        }
      ]
    },
    {
      "cell_type": "markdown",
      "source": [
        "*   **Pregunta 12.**  \n",
        "\n",
        "Busca e imprime todas las palabras que terminan en \"ing\" o \"ed\".\n",
        "\n",
        "Indica la cantidad de palabras que encontraste de cada una."
      ],
      "metadata": {
        "id": "DEIgl79HMthr"
      }
    },
    {
      "cell_type": "code",
      "source": [
        "pattern = re.compile(r'\\b[A-Za-z]+(?:ing|ed)\\b', re.IGNORECASE)\n",
        "\n",
        "# Buscar todas las coincidencias\n",
        "coincidencias = []\n",
        "for texto in new_docs:\n",
        "    coincidencias.extend(pattern.findall(texto))\n",
        "\n",
        "# Separar y contar según sufijo\n",
        "ing = [w for w in coincidencias if w.lower().endswith('ing')]\n",
        "ed  = [w for w in coincidencias if w.lower().endswith('ed')]\n",
        "\n",
        "# Imprimir todas las palabras encontradas\n",
        "for palabra in coincidencias:\n",
        "    print(palabra)\n",
        "\n",
        "# Imprimir totales por categoría\n",
        "print(f\"\\nTotal de palabras que terminan en 'ing': {len(ing)}\")\n",
        "print(f\"Total de palabras que terminan en 'ed':  {len(ed)}\")"
      ],
      "metadata": {
        "id": "I4TSofBMMv9y",
        "colab": {
          "base_uri": "https://localhost:8080/"
        },
        "outputId": "8ba0ebef-eb61-4ba3-f51a-c74e795aba03"
      },
      "execution_count": 75,
      "outputs": [
        {
          "output_type": "stream",
          "name": "stdout",
          "text": [
            "Loved\n",
            "Stopped\n",
            "during\n",
            "loved\n",
            "getting\n",
            "being\n",
            "ended\n",
            "being\n",
            "overpriced\n",
            "tried\n",
            "disgusted\n",
            "shocked\n",
            "recommended\n",
            "amazing\n",
            "performed\n",
            "red\n",
            "asked\n",
            "running\n",
            "overwhelmed\n",
            "redeeming\n",
            "grossed\n",
            "melted\n",
            "getting\n",
            "provided\n",
            "thing\n",
            "cooked\n",
            "dressing\n",
            "refreshing\n",
            "ordered\n",
            "running\n",
            "realized\n",
            "Loved\n",
            "lined\n",
            "cooked\n",
            "ripped\n",
            "ripped\n",
            "petrified\n",
            "amazing\n",
            "included\n",
            "expected\n",
            "nothing\n",
            "appalling\n",
            "seasoned\n",
            "cheated\n",
            "wasting\n",
            "eating\n",
            "going\n",
            "Coming\n",
            "experiencing\n",
            "underwhelming\n",
            "walked\n",
            "smelled\n",
            "eating\n",
            "raving\n",
            "tailored\n",
            "spring\n",
            "unsatisfying\n",
            "amazing\n",
            "Everything\n",
            "disappointing\n",
            "dining\n",
            "flirting\n",
            "arrived\n",
            "roasted\n",
            "added\n",
            "thing\n",
            "coming\n",
            "LOVED\n",
            "cooked\n",
            "playing\n",
            "passed\n",
            "ordering\n",
            "arriving\n",
            "liked\n",
            "disappointing\n",
            "managed\n",
            "served\n",
            "preparing\n",
            "loving\n",
            "liking\n",
            "reviewing\n",
            "venturing\n",
            "overpriced\n",
            "including\n",
            "during\n",
            "checked\n",
            "disappointed\n",
            "red\n",
            "decorated\n",
            "changing\n",
            "going\n",
            "considering\n",
            "served\n",
            "coming\n",
            "watched\n",
            "greeted\n",
            "seated\n",
            "waited\n",
            "flavored\n",
            "ordered\n",
            "going\n",
            "everything\n",
            "ordered\n",
            "relocated\n",
            "impressed\n",
            "seated\n",
            "priced\n",
            "looking\n",
            "treated\n",
            "ordered\n",
            "dressing\n",
            "dining\n",
            "used\n",
            "handed\n",
            "listed\n",
            "missed\n",
            "Everything\n",
            "thrilled\n",
            "amazing\n",
            "judging\n",
            "inspired\n",
            "desired\n",
            "maintaining\n",
            "asking\n",
            "overcooked\n",
            "decided\n",
            "looked\n",
            "having\n",
            "dressed\n",
            "treated\n",
            "something\n",
            "lacking\n",
            "ordered\n",
            "sucked\n",
            "expected\n",
            "sucked\n",
            "imagined\n",
            "Interesting\n",
            "served\n",
            "preparing\n",
            "arrived\n",
            "missing\n",
            "feeling\n",
            "satisfied\n",
            "voted\n",
            "insulted\n",
            "disrespected\n",
            "exceeding\n",
            "dreamed\n",
            "inviting\n",
            "lived\n",
            "stepped\n",
            "mixed\n",
            "showed\n",
            "climbing\n",
            "waiting\n",
            "realized\n",
            "coming\n",
            "loved\n",
            "being\n",
            "lacking\n",
            "needed\n",
            "going\n",
            "loved\n",
            "wrapped\n",
            "uninspired\n",
            "amazing\n",
            "dealing\n",
            "annoying\n",
            "Ordered\n",
            "falling\n",
            "uploaded\n",
            "sporting\n",
            "covered\n",
            "supposed\n",
            "amazing\n",
            "rolled\n",
            "stayed\n",
            "providing\n",
            "building\n",
            "FREEZING\n",
            "lighting\n",
            "Based\n",
            "received\n",
            "going\n",
            "nothing\n",
            "privileged\n",
            "working\n",
            "eating\n",
            "dressing\n",
            "being\n",
            "charged\n",
            "visited\n",
            "proclaimed\n",
            "disappointed\n",
            "Stopped\n",
            "dedicated\n",
            "liked\n",
            "outstanding\n",
            "getting\n",
            "disappointed\n",
            "waited\n",
            "waited\n",
            "burned\n",
            "waited\n",
            "amazing\n",
            "disappointed\n",
            "Waited\n",
            "disappointed\n",
            "pulled\n",
            "prepared\n",
            "rating\n",
            "eating\n",
            "writing\n",
            "everything\n",
            "dining\n",
            "fried\n",
            "boring\n",
            "passed\n",
            "charming\n",
            "ordered\n",
            "toasted\n",
            "untoasted\n",
            "going\n",
            "figured\n",
            "making\n",
            "pricing\n",
            "considering\n",
            "returned\n",
            "amazing\n",
            "eyed\n",
            "disappointed\n",
            "pleased\n",
            "Everything\n",
            "replenished\n",
            "disappointed\n",
            "nothing\n",
            "nothing\n",
            "driving\n",
            "treated\n",
            "during\n",
            "evening\n",
            "offered\n",
            "Outstanding\n",
            "tasted\n",
            "buying\n",
            "handling\n",
            "wasting\n",
            "craving\n",
            "dropped\n",
            "dining\n",
            "decorated\n",
            "interesting\n",
            "amazing\n",
            "being\n",
            "served\n",
            "outshining\n",
            "HAPPENED\n",
            "starving\n",
            "coming\n",
            "walked\n",
            "stuffed\n",
            "considering\n",
            "located\n",
            "shopping\n",
            "nothing\n",
            "Cooked\n",
            "disappointed\n",
            "getting\n",
            "screwed\n",
            "frustrated\n",
            "iced\n",
            "stuffed\n",
            "disappointed\n",
            "trying\n",
            "grossed\n",
            "enjoyed\n",
            "eating\n",
            "going\n",
            "looked\n",
            "overwhelmed\n",
            "stayed\n",
            "everything\n",
            "smeared\n",
            "stepped\n",
            "tracked\n",
            "tried\n",
            "rushed\n",
            "loved\n",
            "Ordered\n",
            "Nothing\n",
            "cooked\n",
            "going\n",
            "insulted\n",
            "contained\n",
            "enjoyed\n",
            "relaxed\n",
            "loved\n",
            "outstanding\n",
            "running\n",
            "acknowledged\n",
            "forgetting\n",
            "upgrading\n",
            "trimmed\n",
            "cooked\n",
            "claimed\n",
            "handled\n",
            "LOVED\n",
            "asked\n",
            "eating\n",
            "bring\n",
            "hoping\n",
            "living\n",
            "limited\n",
            "boiled\n",
            "dining\n",
            "liked\n",
            "sliced\n",
            "attached\n",
            "humiliated\n",
            "filling\n",
            "fried\n",
            "amazing\n",
            "impressed\n",
            "disappointed\n",
            "priced\n",
            "Everything\n",
            "disappointed\n",
            "thing\n",
            "amazing\n",
            "need\n",
            "Everything\n",
            "interesting\n",
            "need\n",
            "experienced\n",
            "amazing\n",
            "amazing\n",
            "waited\n",
            "seated\n",
            "waiting\n",
            "going\n",
            "going\n",
            "dining\n",
            "decided\n",
            "pleased\n",
            "saving\n",
            "something\n",
            "trying\n",
            "disgusting\n",
            "hankering\n",
            "recommended\n",
            "being\n",
            "helped\n",
            "witnessed\n",
            "Waited\n",
            "waited\n",
            "waited\n",
            "checked\n",
            "tasted\n",
            "disappointed\n",
            "being\n",
            "served\n",
            "rated\n",
            "recommended\n",
            "pulled\n",
            "waited\n",
            "being\n",
            "acknowledged\n",
            "setting\n",
            "perpared\n",
            "dusted\n",
            "powdered\n",
            "enjoyed\n",
            "expanded\n",
            "sitting\n",
            "ended\n",
            "waiting\n",
            "arrived\n",
            "satisfying\n",
            "wanted\n",
            "disappointed\n",
            "eating\n",
            "need\n",
            "being\n",
            "freaking\n",
            "checked\n",
            "impressed\n",
            "reheated\n",
            "getting\n",
            "amazing\n",
            "tasted\n",
            "disappointing\n",
            "grilled\n",
            "seasoning\n",
            "going\n",
            "focused\n",
            "roasted\n",
            "asked\n",
            "being\n",
            "ignored\n",
            "bring\n",
            "letting\n",
            "tasted\n",
            "evening\n",
            "Ordered\n",
            "greeted\n",
            "seated\n",
            "Tried\n",
            "waiting\n",
            "being\n",
            "seated\n",
            "eating\n",
            "going\n",
            "Disappointed\n",
            "ordered\n",
            "constructed\n",
            "seating\n",
            "fried\n",
            "playing\n",
            "requested\n",
            "amazing\n",
            "staying\n",
            "used\n",
            "tasted\n",
            "giving\n",
            "talking\n",
            "amazing\n",
            "drenched\n",
            "amazing\n",
            "amazing\n",
            "tried\n",
            "walked\n",
            "expected\n",
            "amazing\n",
            "disappointed\n",
            "mortified\n",
            "filling\n",
            "dripping\n",
            "impressed\n",
            "going\n",
            "serving\n",
            "refrained\n",
            "recommending\n",
            "pleased\n",
            "thing\n",
            "reading\n",
            "loved\n",
            "grilled\n",
            "reminded\n",
            "seating\n",
            "sucked\n",
            "hooked\n",
            "ordered\n",
            "going\n",
            "disappointed\n",
            "everything\n",
            "seasoned\n",
            "thing\n",
            "added\n",
            "sitting\n",
            "waiting\n",
            "bring\n",
            "revisiting\n",
            "coming\n",
            "touched\n",
            "anything\n",
            "fried\n",
            "opened\n",
            "impressed\n",
            "feeling\n",
            "during\n",
            "watched\n",
            "thing\n",
            "being\n",
            "Tasted\n",
            "amazing\n",
            "being\n",
            "amazing\n",
            "ordered\n",
            "satifying\n",
            "describing\n",
            "coming\n",
            "everything\n",
            "received\n",
            "Paying\n",
            "going\n",
            "impressed\n",
            "overcooked\n",
            "cooked\n",
            "needed\n",
            "served\n",
            "thing\n",
            "ordered\n",
            "amazing\n",
            "overpriced\n",
            "OVERPRICED\n",
            "packed\n",
            "getting\n",
            "opposed\n",
            "cramming\n",
            "priced\n",
            "surprised\n",
            "considering\n",
            "focused\n",
            "overpriced\n",
            "fucking\n",
            "tried\n",
            "enjoyed\n",
            "going\n",
            "qualified\n",
            "tasted\n",
            "hated\n",
            "appealing\n",
            "getting\n",
            "coming\n",
            "watched\n",
            "Everything\n",
            "fried\n",
            "dealing\n",
            "everything\n",
            "tried\n",
            "something\n",
            "during\n",
            "helped\n",
            "dining\n",
            "cooking\n",
            "dining\n",
            "started\n",
            "editing\n",
            "highlighted\n",
            "setting\n",
            "used\n",
            "amazing\n",
            "enjoyed\n",
            "ordered\n",
            "tasted\n",
            "asked\n",
            "refused\n",
            "tried\n",
            "rotating\n",
            "Pricing\n",
            "toasted\n",
            "satisfying\n",
            "anticipated\n",
            "disappointing\n",
            "amazing\n",
            "returning\n",
            "unexperienced\n",
            "running\n",
            "insulted\n",
            "disrespected\n",
            "being\n",
            "impressed\n",
            "thing\n",
            "nothing\n",
            "poisoning\n",
            "thinking\n",
            "something\n",
            "going\n",
            "disgusting\n",
            "caring\n",
            "bring\n",
            "asked\n",
            "Disappointing\n",
            "rated\n",
            "saying\n",
            "going\n",
            "lacked\n",
            "coming\n",
            "sliced\n",
            "pulled\n",
            "building\n",
            "seating\n",
            "undercooked\n",
            "dipping\n",
            "seemed\n",
            "watered\n",
            "lacked\n",
            "disappointed\n",
            "overpriced\n",
            "setting\n",
            "ensued\n",
            "anything\n",
            "drinking\n",
            "serving\n",
            "disappointed\n",
            "placed\n",
            "avoided\n",
            "received\n",
            "wanted\n",
            "doing\n",
            "sucked\n",
            "happened\n",
            "putting\n",
            "owned\n",
            "wanted\n",
            "Overpriced\n",
            "getting\n",
            "vomited\n",
            "looking\n",
            "started\n",
            "coming\n",
            "unwrapped\n",
            "lacked\n",
            "seemed\n",
            "undercooked\n",
            "closed\n",
            "staying\n",
            "refried\n",
            "dried\n",
            "disappointed\n",
            "lacking\n",
            "impressed\n",
            "underwhelming\n",
            "wasted\n",
            "poured\n",
            "drawing\n",
            "bring\n",
            "\n",
            "Total de palabras que terminan en 'ing': 280\n",
            "Total de palabras que terminan en 'ed':  338\n"
          ]
        }
      ]
    },
    {
      "cell_type": "code",
      "source": [],
      "metadata": {
        "id": "AhGq6De2Mvyh"
      },
      "execution_count": null,
      "outputs": []
    },
    {
      "cell_type": "markdown",
      "source": [
        "#**Parte 3. Proceso de limpieza.**"
      ],
      "metadata": {
        "id": "70StdqAZa9E9"
      }
    },
    {
      "cell_type": "markdown",
      "source": [
        "*   **Pregunta 13.**  \n",
        "\n",
        "Ahora realiza un proceso de limpieza del corpus que incluya los siguientes procesos:\n",
        "\n",
        "*   Solo se deben considerar caracteres alfabéticos. Es decir, se eliminan todos los signos de puntuación y caracteres especiales.\n",
        "*   Todos los caracteres alfabéticos se transforman a minúsculas.\n",
        "*   Se deben eliminar todos los espacios en blanco adicionales que se puedan encontrar en cada comentario.\n",
        "\n",
        "Al finalizar dicho proceso de limpieza, imprime el resultado de los primeros 10 comentarios resultantes.\n",
        "   \n",
        "\n",
        "\n"
      ],
      "metadata": {
        "id": "xaDUFXHrMvX2"
      }
    },
    {
      "cell_type": "code",
      "source": [
        "import re\n",
        "\n",
        "def clean_comment(text):\n",
        "    only_letters = re.sub(r'[^A-Za-z\\s]', '', text)\n",
        "    lowercased   = only_letters.lower()\n",
        "    cleaned      = re.sub(r'\\s+', ' ', lowercased).strip()\n",
        "    return cleaned\n",
        "\n",
        "cleaned_corpus = [clean_comment(c) for c in docs]\n",
        "\n",
        "for i, coment in enumerate(cleaned_corpus[:10]):\n",
        "    print(f\"{i}. {coment}\")\n"
      ],
      "metadata": {
        "id": "K3kQzPOPMx0w",
        "colab": {
          "base_uri": "https://localhost:8080/"
        },
        "outputId": "6c4085b1-13b5-4eab-a068-56fdb3e14048"
      },
      "execution_count": 77,
      "outputs": [
        {
          "output_type": "stream",
          "name": "stdout",
          "text": [
            "0. wow loved this place\n",
            "1. crust is not good\n",
            "2. not tasty and the texture was just nasty\n",
            "3. stopped by during the late may bank holiday off rick steve recommendation and loved it\n",
            "4. the selection on the menu was great and so were the prices\n",
            "5. now i am getting angry and i want my damn pho\n",
            "6. honeslty it didnt taste that fresh\n",
            "7. the potatoes were like rubber and you could tell they had been made up ahead of time being kept under a warmer\n",
            "8. the fries were great too\n",
            "9. a great touch\n"
          ]
        }
      ]
    },
    {
      "cell_type": "code",
      "source": [],
      "metadata": {
        "id": "mYEDlHSFMyJN"
      },
      "execution_count": null,
      "outputs": []
    },
    {
      "cell_type": "markdown",
      "source": [
        "*   **Pregunta 14.**  \n",
        "\n",
        "Con el resultado de la limpieza obtenido en la pregunta anterior, realiza ahora un proceso de tokenización por palabras del corpus.\n",
        "\n",
        "Es decir, al final de este proceso de tokenización, debes tener como resultado una lista de listas, donde cada comentario estará tokenizado por palabras.\n",
        "\n",
        "Al terminar calcula el total de tokens obtenido en todo el corpus."
      ],
      "metadata": {
        "id": "WZwEhg2lUSAX"
      }
    },
    {
      "cell_type": "code",
      "source": [
        "tokenized_corpus = [comentario.split() for comentario in cleaned_corpus]\n",
        "total_tokens = sum(len(tokens) for tokens in tokenized_corpus)\n",
        "\n",
        "print(\"Corpus tokenizado (lista de listas):\")\n",
        "print(tokenized_corpus)"
      ],
      "metadata": {
        "id": "kbAL9-v0V-jx",
        "colab": {
          "base_uri": "https://localhost:8080/"
        },
        "outputId": "3d6a066e-0ad2-4a13-a059-3d0bc7899a15"
      },
      "execution_count": 79,
      "outputs": [
        {
          "output_type": "stream",
          "name": "stdout",
          "text": [
            "Corpus tokenizado (lista de listas):\n",
            "[['wow', 'loved', 'this', 'place'], ['crust', 'is', 'not', 'good'], ['not', 'tasty', 'and', 'the', 'texture', 'was', 'just', 'nasty'], ['stopped', 'by', 'during', 'the', 'late', 'may', 'bank', 'holiday', 'off', 'rick', 'steve', 'recommendation', 'and', 'loved', 'it'], ['the', 'selection', 'on', 'the', 'menu', 'was', 'great', 'and', 'so', 'were', 'the', 'prices'], ['now', 'i', 'am', 'getting', 'angry', 'and', 'i', 'want', 'my', 'damn', 'pho'], ['honeslty', 'it', 'didnt', 'taste', 'that', 'fresh'], ['the', 'potatoes', 'were', 'like', 'rubber', 'and', 'you', 'could', 'tell', 'they', 'had', 'been', 'made', 'up', 'ahead', 'of', 'time', 'being', 'kept', 'under', 'a', 'warmer'], ['the', 'fries', 'were', 'great', 'too'], ['a', 'great', 'touch'], ['service', 'was', 'very', 'prompt'], ['would', 'not', 'go', 'back'], ['the', 'cashier', 'had', 'no', 'care', 'what', 'so', 'ever', 'on', 'what', 'i', 'had', 'to', 'say', 'it', 'still', 'ended', 'up', 'being', 'wayyy', 'overpriced'], ['i', 'tried', 'the', 'cape', 'cod', 'ravoli', 'chickenwith', 'cranberrymmmm'], ['i', 'was', 'disgusted', 'because', 'i', 'was', 'pretty', 'sure', 'that', 'was', 'human', 'hair'], ['i', 'was', 'shocked', 'because', 'no', 'signs', 'indicate', 'cash', 'only'], ['highly', 'recommended'], ['waitress', 'was', 'a', 'little', 'slow', 'in', 'service'], ['this', 'place', 'is', 'not', 'worth', 'your', 'time', 'let', 'alone', 'vegas'], ['did', 'not', 'like', 'at', 'all'], ['the', 'burrittos', 'blah'], ['the', 'food', 'amazing'], ['service', 'is', 'also', 'cute'], ['i', 'could', 'care', 'less', 'the', 'interior', 'is', 'just', 'beautiful'], ['so', 'they', 'performed'], ['thats', 'rightthe', 'red', 'velvet', 'cakeohhh', 'this', 'stuff', 'is', 'so', 'good'], ['they', 'never', 'brought', 'a', 'salad', 'we', 'asked', 'for'], ['this', 'hole', 'in', 'the', 'wall', 'has', 'great', 'mexican', 'street', 'tacos', 'and', 'friendly', 'staff'], ['took', 'an', 'hour', 'to', 'get', 'our', 'food', 'only', 'tables', 'in', 'restaurant', 'my', 'food', 'was', 'luke', 'warm', 'our', 'sever', 'was', 'running', 'around', 'like', 'he', 'was', 'totally', 'overwhelmed'], ['the', 'worst', 'was', 'the', 'salmon', 'sashimi'], ['also', 'there', 'are', 'combos', 'like', 'a', 'burger', 'fries', 'and', 'beer', 'for', 'which', 'is', 'a', 'decent', 'deal'], ['this', 'was', 'like', 'the', 'final', 'blow'], ['i', 'found', 'this', 'place', 'by', 'accident', 'and', 'i', 'could', 'not', 'be', 'happier'], ['seems', 'like', 'a', 'good', 'quick', 'place', 'to', 'grab', 'a', 'bite', 'of', 'some', 'familiar', 'pub', 'food', 'but', 'do', 'yourself', 'a', 'favor', 'and', 'look', 'elsewhere'], ['overall', 'i', 'like', 'this', 'place', 'a', 'lot'], ['the', 'only', 'redeeming', 'quality', 'of', 'the', 'restaurant', 'was', 'that', 'it', 'was', 'very', 'inexpensive'], ['ample', 'portions', 'and', 'good', 'prices'], ['poor', 'service', 'the', 'waiter', 'made', 'me', 'feel', 'like', 'i', 'was', 'stupid', 'every', 'time', 'he', 'came', 'to', 'the', 'table'], ['my', 'first', 'visit', 'to', 'hiro', 'was', 'a', 'delight'], ['service', 'sucks'], ['the', 'shrimp', 'tender', 'and', 'moist'], ['there', 'is', 'not', 'a', 'deal', 'good', 'enough', 'that', 'would', 'drag', 'me', 'into', 'that', 'establishment', 'again'], ['hard', 'to', 'judge', 'whether', 'these', 'sides', 'were', 'good', 'because', 'we', 'were', 'grossed', 'out', 'by', 'the', 'melted', 'styrofoam', 'and', 'didnt', 'want', 'to', 'eat', 'it', 'for', 'fear', 'of', 'getting', 'sick'], ['on', 'a', 'positive', 'note', 'our', 'server', 'was', 'very', 'attentive', 'and', 'provided', 'great', 'service'], ['frozen', 'pucks', 'of', 'disgust', 'with', 'some', 'of', 'the', 'worst', 'people', 'behind', 'the', 'register'], ['the', 'only', 'thing', 'i', 'did', 'like', 'was', 'the', 'prime', 'rib', 'and', 'dessert', 'section'], ['its', 'too', 'bad', 'the', 'food', 'is', 'so', 'damn', 'generic'], ['the', 'burger', 'is', 'good', 'beef', 'cooked', 'just', 'right'], ['if', 'you', 'want', 'a', 'sandwich', 'just', 'go', 'to', 'any', 'firehouse'], ['my', 'side', 'greek', 'salad', 'with', 'the', 'greek', 'dressing', 'was', 'so', 'tasty', 'and', 'the', 'pita', 'and', 'hummus', 'was', 'very', 'refreshing'], ['we', 'ordered', 'the', 'duck', 'rare', 'and', 'it', 'was', 'pink', 'and', 'tender', 'on', 'the', 'inside', 'with', 'a', 'nice', 'char', 'on', 'the', 'outside'], ['he', 'came', 'running', 'after', 'us', 'when', 'he', 'realized', 'my', 'husband', 'had', 'left', 'his', 'sunglasses', 'on', 'the', 'table'], ['their', 'chow', 'mein', 'is', 'so', 'good'], ['they', 'have', 'horrible', 'attitudes', 'towards', 'customers', 'and', 'talk', 'down', 'to', 'each', 'one', 'when', 'customers', 'dont', 'enjoy', 'their', 'food'], ['the', 'portion', 'was', 'huge'], ['loved', 'itfriendly', 'servers', 'great', 'food', 'wonderful', 'and', 'imaginative', 'menu'], ['the', 'heart', 'attack', 'grill', 'in', 'downtown', 'vegas', 'is', 'an', 'absolutely', 'flatlined', 'excuse', 'for', 'a', 'restaurant'], ['not', 'much', 'seafood', 'and', 'like', 'strings', 'of', 'pasta', 'at', 'the', 'bottom'], ['the', 'salad', 'had', 'just', 'the', 'right', 'amount', 'of', 'sauce', 'to', 'not', 'over', 'power', 'the', 'scallop', 'which', 'was', 'perfectly', 'cooked'], ['the', 'ripped', 'banana', 'was', 'not', 'only', 'ripped', 'but', 'petrified', 'and', 'tasteless'], ['at', 'least', 'think', 'to', 'refill', 'my', 'water', 'before', 'i', 'struggle', 'to', 'wave', 'you', 'over', 'for', 'minutes'], ['this', 'place', 'receives', 'stars', 'for', 'their', 'appetizers'], ['the', 'cocktails', 'are', 'all', 'handmade', 'and', 'delicious'], ['wed', 'definitely', 'go', 'back', 'here', 'again'], ['we', 'are', 'so', 'glad', 'we', 'found', 'this', 'place'], ['great', 'food', 'and', 'service', 'huge', 'portions', 'and', 'they', 'give', 'a', 'military', 'discount'], ['always', 'a', 'great', 'time', 'at', 'dos', 'gringos'], ['updatewent', 'back', 'for', 'a', 'second', 'time', 'and', 'it', 'was', 'still', 'just', 'as', 'amazing'], ['we', 'got', 'the', 'food', 'and', 'apparently', 'they', 'have', 'never', 'heard', 'of', 'salt', 'and', 'the', 'batter', 'on', 'the', 'fish', 'was', 'chewy'], ['a', 'great', 'way', 'to', 'finish', 'a', 'great'], ['the', 'deal', 'included', 'tastings', 'and', 'drinks', 'and', 'jeff', 'went', 'above', 'and', 'beyond', 'what', 'we', 'expected'], ['really', 'really', 'good', 'rice', 'all', 'the', 'time'], ['the', 'service', 'was', 'meh'], ['it', 'took', 'over', 'min', 'to', 'get', 'their', 'milkshake', 'which', 'was', 'nothing', 'more', 'than', 'chocolate', 'milk'], ['i', 'guess', 'i', 'should', 'have', 'known', 'that', 'this', 'place', 'would', 'suck', 'because', 'it', 'is', 'inside', 'of', 'the', 'excalibur', 'but', 'i', 'didnt', 'use', 'my', 'common', 'sense'], ['the', 'scallop', 'dish', 'is', 'quite', 'appalling', 'for', 'value', 'as', 'well'], ['times', 'very', 'bad', 'customer', 'service'], ['the', 'sweet', 'potato', 'fries', 'were', 'very', 'good', 'and', 'seasoned', 'well'], ['today', 'is', 'the', 'second', 'time', 'ive', 'been', 'to', 'their', 'lunch', 'buffet', 'and', 'it', 'was', 'pretty', 'good'], ['there', 'is', 'so', 'much', 'good', 'food', 'in', 'vegas', 'that', 'i', 'feel', 'cheated', 'for', 'wasting', 'an', 'eating', 'opportunity', 'by', 'going', 'to', 'rice', 'and', 'company'], ['coming', 'here', 'is', 'like', 'experiencing', 'an', 'underwhelming', 'relationship', 'where', 'both', 'parties', 'cant', 'wait', 'for', 'the', 'other', 'person', 'to', 'ask', 'to', 'break', 'up'], ['walked', 'in', 'and', 'the', 'place', 'smelled', 'like', 'an', 'old', 'grease', 'trap', 'and', 'only', 'others', 'there', 'eating'], ['the', 'turkey', 'and', 'roast', 'beef', 'were', 'bland'], ['this', 'place', 'has', 'it'], ['the', 'pan', 'cakes', 'everyone', 'are', 'raving', 'about', 'taste', 'like', 'a', 'sugary', 'disaster', 'tailored', 'to', 'the', 'palate', 'of', 'a', 'six', 'year', 'old'], ['i', 'love', 'the', 'pho', 'and', 'the', 'spring', 'rolls', 'oh', 'so', 'yummy', 'you', 'have', 'to', 'try'], ['the', 'poor', 'batter', 'to', 'meat', 'ratio', 'made', 'the', 'chicken', 'tenders', 'very', 'unsatisfying'], ['all', 'i', 'have', 'to', 'say', 'is', 'the', 'food', 'was', 'amazing'], ['omelets', 'are', 'to', 'die', 'for'], ['everything', 'was', 'fresh', 'and', 'delicious'], ['in', 'summary', 'this', 'was', 'a', 'largely', 'disappointing', 'dining', 'experience'], ['its', 'like', 'a', 'really', 'sexy', 'party', 'in', 'your', 'mouth', 'where', 'youre', 'outrageously', 'flirting', 'with', 'the', 'hottest', 'person', 'at', 'the', 'party'], ['never', 'been', 'to', 'hard', 'rock', 'casino', 'before', 'will', 'never', 'ever', 'step', 'forward', 'in', 'it', 'again'], ['best', 'breakfast', 'buffet'], ['say', 'bye', 'bye', 'to', 'your', 'tip', 'lady'], ['well', 'never', 'go', 'again'], ['will', 'be', 'back', 'again'], ['food', 'arrived', 'quickly'], ['it', 'was', 'not', 'good'], ['on', 'the', 'up', 'side', 'their', 'cafe', 'serves', 'really', 'good', 'food'], ['our', 'server', 'was', 'fantastic', 'and', 'when', 'he', 'found', 'out', 'the', 'wife', 'loves', 'roasted', 'garlic', 'and', 'bone', 'marrow', 'he', 'added', 'extra', 'to', 'our', 'meal', 'and', 'another', 'marrow', 'to', 'go'], ['the', 'only', 'good', 'thing', 'was', 'our', 'waiter', 'he', 'was', 'very', 'helpful', 'and', 'kept', 'the', 'bloddy', 'marys', 'coming'], ['best', 'buffet', 'in', 'town', 'for', 'the', 'price', 'you', 'cannot', 'beat', 'it'], ['i', 'loved', 'their', 'mussels', 'cooked', 'in', 'this', 'wine', 'reduction', 'the', 'duck', 'was', 'tender', 'and', 'their', 'potato', 'dishes', 'were', 'delicious'], ['this', 'is', 'one', 'of', 'the', 'better', 'buffets', 'that', 'i', 'have', 'been', 'to'], ['so', 'we', 'went', 'to', 'tigerlilly', 'and', 'had', 'a', 'fantastic', 'afternoon'], ['the', 'food', 'was', 'delicious', 'our', 'bartender', 'was', 'attentive', 'and', 'personable', 'and', 'we', 'got', 'a', 'great', 'deal'], ['the', 'ambience', 'is', 'wonderful', 'and', 'there', 'is', 'music', 'playing'], ['will', 'go', 'back', 'next', 'trip', 'out'], ['sooooo', 'good'], ['real', 'sushi', 'lovers', 'lets', 'be', 'honest', 'yama', 'is', 'not', 'that', 'good'], ['at', 'least', 'min', 'passed', 'in', 'between', 'us', 'ordering', 'and', 'the', 'food', 'arriving', 'and', 'it', 'wasnt', 'that', 'busy'], ['this', 'is', 'a', 'really', 'fantastic', 'thai', 'restaurant', 'which', 'is', 'definitely', 'worth', 'a', 'visit'], ['nice', 'spicy', 'and', 'tender'], ['good', 'prices'], ['check', 'it', 'out'], ['it', 'was', 'pretty', 'gross'], ['ive', 'had', 'better', 'atmosphere'], ['kind', 'of', 'hard', 'to', 'mess', 'up', 'a', 'steak', 'but', 'they', 'did'], ['although', 'i', 'very', 'much', 'liked', 'the', 'look', 'and', 'sound', 'of', 'this', 'place', 'the', 'actual', 'experience', 'was', 'a', 'bit', 'disappointing'], ['i', 'just', 'dont', 'know', 'how', 'this', 'place', 'managed', 'to', 'served', 'the', 'blandest', 'food', 'i', 'have', 'ever', 'eaten', 'when', 'they', 'are', 'preparing', 'indian', 'cuisine'], ['worst', 'service', 'to', 'boot', 'but', 'that', 'is', 'the', 'least', 'of', 'their', 'worries'], ['service', 'was', 'fine', 'and', 'the', 'waitress', 'was', 'friendly'], ['the', 'guys', 'all', 'had', 'steaks', 'and', 'our', 'steak', 'loving', 'son', 'who', 'has', 'had', 'steak', 'at', 'the', 'best', 'and', 'worst', 'places', 'said', 'it', 'was', 'the', 'best', 'steak', 'hes', 'ever', 'eaten'], ['we', 'thought', 'youd', 'have', 'to', 'venture', 'further', 'away', 'to', 'get', 'good', 'sushi', 'but', 'this', 'place', 'really', 'hit', 'the', 'spot', 'that', 'night'], ['host', 'staff', 'were', 'for', 'lack', 'of', 'a', 'better', 'word', 'bitches'], ['bland', 'not', 'a', 'liking', 'this', 'place', 'for', 'a', 'number', 'of', 'reasons', 'and', 'i', 'dont', 'want', 'to', 'waste', 'time', 'on', 'bad', 'reviewing', 'ill', 'leave', 'it', 'at', 'that'], ['phenomenal', 'food', 'service', 'and', 'ambiance'], ['i', 'wouldnt', 'return'], ['definitely', 'worth', 'venturing', 'off', 'the', 'strip', 'for', 'the', 'pork', 'belly', 'will', 'return', 'next', 'time', 'im', 'in', 'vegas'], ['this', 'place', 'is', 'way', 'too', 'overpriced', 'for', 'mediocre', 'food'], ['penne', 'vodka', 'excellent'], ['they', 'have', 'a', 'good', 'selection', 'of', 'food', 'including', 'a', 'massive', 'meatloaf', 'sandwich', 'a', 'crispy', 'chicken', 'wrap', 'a', 'delish', 'tuna', 'melt', 'and', 'some', 'tasty', 'burgers'], ['the', 'management', 'is', 'rude'], ['delicious', 'nyc', 'bagels', 'good', 'selections', 'of', 'cream', 'cheese', 'real', 'lox', 'with', 'capers', 'even'], ['great', 'subway', 'in', 'fact', 'its', 'so', 'good', 'when', 'you', 'come', 'here', 'every', 'other', 'subway', 'will', 'not', 'meet', 'your', 'expectations'], ['i', 'had', 'a', 'seriously', 'solid', 'breakfast', 'here'], ['this', 'is', 'one', 'of', 'the', 'best', 'bars', 'with', 'food', 'in', 'vegas'], ['he', 'was', 'extremely', 'rude', 'and', 'really', 'there', 'are', 'so', 'many', 'other', 'restaurants', 'i', 'would', 'love', 'to', 'dine', 'at', 'during', 'a', 'weekend', 'in', 'vegas'], ['my', 'drink', 'was', 'never', 'empty', 'and', 'he', 'made', 'some', 'really', 'great', 'menu', 'suggestions'], ['dont', 'do', 'it'], ['the', 'waiter', 'wasnt', 'helpful', 'or', 'friendly', 'and', 'rarely', 'checked', 'on', 'us'], ['my', 'husband', 'and', 'i', 'ate', 'lunch', 'here', 'and', 'were', 'very', 'disappointed', 'with', 'the', 'food', 'and', 'service'], ['and', 'the', 'red', 'curry', 'had', 'so', 'much', 'bamboo', 'shoots', 'and', 'wasnt', 'very', 'tasty', 'to', 'me'], ['nice', 'blanket', 'of', 'moz', 'over', 'top', 'but', 'i', 'feel', 'like', 'this', 'was', 'done', 'to', 'cover', 'up', 'the', 'subpar', 'food'], ['the', 'bathrooms', 'are', 'clean', 'and', 'the', 'place', 'itself', 'is', 'well', 'decorated'], ['the', 'menu', 'is', 'always', 'changing', 'food', 'quality', 'is', 'going', 'down', 'service', 'is', 'extremely', 'slow'], ['the', 'service', 'was', 'a', 'little', 'slow', 'considering', 'that', 'were', 'served', 'by', 'people', 'servers', 'so', 'the', 'food', 'was', 'coming', 'in', 'a', 'slow', 'pace'], ['i', 'give', 'it', 'thumbs', 'down'], ['we', 'watched', 'our', 'waiter', 'pay', 'a', 'lot', 'more', 'attention', 'to', 'other', 'tables', 'and', 'ignore', 'us'], ['my', 'fianc', 'and', 'i', 'came', 'in', 'the', 'middle', 'of', 'the', 'day', 'and', 'we', 'were', 'greeted', 'and', 'seated', 'right', 'away'], ['this', 'is', 'a', 'great', 'restaurant', 'at', 'the', 'mandalay', 'bay'], ['we', 'waited', 'for', 'forty', 'five', 'minutes', 'in', 'vain'], ['crostini', 'that', 'came', 'with', 'the', 'salad', 'was', 'stale'], ['some', 'highlights', 'great', 'quality', 'nigiri', 'here'], ['the', 'staff', 'is', 'friendly', 'and', 'the', 'joint', 'is', 'always', 'clean'], ['this', 'was', 'a', 'different', 'cut', 'than', 'the', 'piece', 'the', 'other', 'day', 'but', 'still', 'wonderful', 'and', 'tender', 's', 'well', 'as', 'well', 'flavored'], ['i', 'ordered', 'the', 'voodoo', 'pasta', 'and', 'it', 'was', 'the', 'first', 'time', 'id', 'had', 'really', 'excellent', 'pasta', 'since', 'going', 'gluten', 'free', 'several', 'years', 'ago'], ['this', 'place', 'is', 'good'], ['unfortunately', 'we', 'must', 'have', 'hit', 'the', 'bakery', 'on', 'leftover', 'day', 'because', 'everything', 'we', 'ordered', 'was', 'stale'], ['i', 'came', 'back', 'today', 'since', 'they', 'relocated', 'and', 'still', 'not', 'impressed'], ['i', 'was', 'seated', 'immediately'], ['their', 'menu', 'is', 'diverse', 'and', 'reasonably', 'priced'], ['avoid', 'at', 'all', 'cost'], ['restaurant', 'is', 'always', 'full', 'but', 'never', 'a', 'wait'], ['delicious'], ['this', 'place', 'is', 'handsdown', 'one', 'of', 'the', 'best', 'places', 'to', 'eat', 'in', 'the', 'phoenix', 'metro', 'area'], ['so', 'dont', 'go', 'there', 'if', 'you', 'are', 'looking', 'for', 'good', 'food'], ['ive', 'never', 'been', 'treated', 'so', 'bad'], ['bacon', 'is', 'hella', 'salty'], ['we', 'also', 'ordered', 'the', 'spinach', 'and', 'avocado', 'salad', 'the', 'ingredients', 'were', 'sad', 'and', 'the', 'dressing', 'literally', 'had', 'zero', 'taste'], ['this', 'really', 'is', 'how', 'vegas', 'fine', 'dining', 'used', 'to', 'be', 'right', 'down', 'to', 'the', 'menus', 'handed', 'to', 'the', 'ladies', 'that', 'have', 'no', 'prices', 'listed'], ['the', 'waitresses', 'are', 'very', 'friendly'], ['lordy', 'the', 'khao', 'soi', 'is', 'a', 'dish', 'that', 'is', 'not', 'to', 'be', 'missed', 'for', 'curry', 'lovers'], ['everything', 'on', 'the', 'menu', 'is', 'terrific', 'and', 'we', 'were', 'also', 'thrilled', 'that', 'they', 'made', 'amazing', 'accommodations', 'for', 'our', 'vegetarian', 'daughter'], ['perhaps', 'i', 'caught', 'them', 'on', 'an', 'off', 'night', 'judging', 'by', 'the', 'other', 'reviews', 'but', 'im', 'not', 'inspired', 'to', 'go', 'back'], ['the', 'service', 'here', 'leaves', 'a', 'lot', 'to', 'be', 'desired'], ['the', 'atmosphere', 'is', 'modern', 'and', 'hip', 'while', 'maintaining', 'a', 'touch', 'of', 'coziness'], ['not', 'a', 'weekly', 'haunt', 'but', 'definitely', 'a', 'place', 'to', 'come', 'back', 'to', 'every', 'once', 'in', 'a', 'while'], ['we', 'literally', 'sat', 'there', 'for', 'minutes', 'with', 'no', 'one', 'asking', 'to', 'take', 'our', 'order'], ['the', 'burger', 'had', 'absolutely', 'no', 'flavor', 'the', 'meat', 'itself', 'was', 'totally', 'bland', 'the', 'burger', 'was', 'overcooked', 'and', 'there', 'was', 'no', 'charcoal', 'flavor'], ['i', 'also', 'decided', 'not', 'to', 'send', 'it', 'back', 'because', 'our', 'waitress', 'looked', 'like', 'she', 'was', 'on', 'the', 'verge', 'of', 'having', 'a', 'heart', 'attack'], ['i', 'dressed', 'up', 'to', 'be', 'treated', 'so', 'rudely'], ['it', 'was', 'probably', 'dirt'], ['love', 'this', 'place', 'hits', 'the', 'spot', 'when', 'i', 'want', 'something', 'healthy', 'but', 'not', 'lacking', 'in', 'quantity', 'or', 'flavor'], ['i', 'ordered', 'the', 'lemon', 'raspberry', 'ice', 'cocktail', 'which', 'was', 'also', 'incredible'], ['the', 'food', 'sucked', 'which', 'we', 'expected', 'but', 'it', 'sucked', 'more', 'than', 'we', 'could', 'have', 'imagined'], ['interesting', 'decor'], ['what', 'i', 'really', 'like', 'there', 'is', 'the', 'crepe', 'station'], ['also', 'were', 'served', 'hot', 'bread', 'and', 'butter', 'and', 'home', 'made', 'potato', 'chips', 'with', 'bacon', 'bits', 'on', 'topvery', 'original', 'and', 'very', 'good'], ['you', 'can', 'watch', 'them', 'preparing', 'the', 'delicious', 'food'], ['both', 'of', 'the', 'egg', 'rolls', 'were', 'fantastic'], ['when', 'my', 'order', 'arrived', 'one', 'of', 'the', 'gyros', 'was', 'missing'], ['i', 'had', 'a', 'salad', 'with', 'the', 'wings', 'and', 'some', 'ice', 'cream', 'for', 'dessert', 'and', 'left', 'feeling', 'quite', 'satisfied'], ['im', 'not', 'really', 'sure', 'how', 'joeys', 'was', 'voted', 'best', 'hot', 'dog', 'in', 'the', 'valley', 'by', 'readers', 'of', 'phoenix', 'magazine'], ['the', 'best', 'place', 'to', 'go', 'for', 'a', 'tasty', 'bowl', 'of', 'pho'], ['the', 'live', 'music', 'on', 'fridays', 'totally', 'blows'], ['ive', 'never', 'been', 'more', 'insulted', 'or', 'felt', 'disrespected'], ['very', 'friendly', 'staff'], ['it', 'is', 'worth', 'the', 'drive'], ['i', 'had', 'heard', 'good', 'things', 'about', 'this', 'place', 'but', 'it', 'exceeding', 'every', 'hope', 'i', 'could', 'have', 'dreamed', 'of'], ['food', 'was', 'great', 'and', 'so', 'was', 'the', 'serivce'], ['the', 'warm', 'beer', 'didnt', 'help'], ['great', 'brunch', 'spot'], ['service', 'is', 'friendly', 'and', 'inviting'], ['very', 'good', 'lunch', 'spot'], ['ive', 'lived', 'here', 'since', 'and', 'this', 'was', 'the', 'first', 'and', 'last', 'time', 'ive', 'stepped', 'foot', 'into', 'this', 'place'], ['the', 'worst', 'experience', 'ever'], ['must', 'have', 'been', 'an', 'off', 'night', 'at', 'this', 'place'], ['the', 'sides', 'are', 'delish', 'mixed', 'mushrooms', 'yukon', 'gold', 'puree', 'white', 'corn', 'beateous'], ['if', 'that', 'bug', 'never', 'showed', 'up', 'i', 'would', 'have', 'given', 'a', 'for', 'sure', 'but', 'on', 'the', 'other', 'side', 'of', 'the', 'wall', 'where', 'this', 'bug', 'was', 'climbing', 'was', 'the', 'kitchen'], ['for', 'about', 'minutes', 'we', 'were', 'waiting', 'for', 'her', 'salad', 'when', 'we', 'realized', 'that', 'it', 'wasnt', 'coming', 'any', 'time', 'soon'], ['my', 'friend', 'loved', 'the', 'salmon', 'tartar'], ['wont', 'go', 'back'], ['extremely', 'tasty'], ['waitress', 'was', 'good', 'though'], ['soggy', 'and', 'not', 'good'], ['the', 'jamaican', 'mojitos', 'are', 'delicious'], ['which', 'are', 'small', 'and', 'not', 'worth', 'the', 'price'], ['the', 'food', 'is', 'rich', 'so', 'order', 'accordingly'], ['the', 'shower', 'area', 'is', 'outside', 'so', 'you', 'can', 'only', 'rinse', 'not', 'take', 'a', 'full', 'shower', 'unless', 'you', 'dont', 'mind', 'being', 'nude', 'for', 'everyone', 'to', 'see'], ['the', 'service', 'was', 'a', 'bit', 'lacking'], ['lobster', 'bisque', 'bussell', 'sprouts', 'risotto', 'filet', 'all', 'needed', 'salt', 'and', 'pepperand', 'of', 'course', 'there', 'is', 'none', 'at', 'the', 'tables'], ['hopefully', 'this', 'bodes', 'for', 'them', 'going', 'out', 'of', 'business', 'and', 'someone', 'who', 'can', 'cook', 'can', 'come', 'in'], ['it', 'was', 'either', 'too', 'cold', 'not', 'enough', 'flavor', 'or', 'just', 'bad'], ['i', 'loved', 'the', 'bacon', 'wrapped', 'dates'], ['this', 'is', 'an', 'unbelievable', 'bargain'], ['the', 'folks', 'at', 'otto', 'always', 'make', 'us', 'feel', 'so', 'welcome', 'and', 'special'], ['as', 'for', 'the', 'mains', 'also', 'uninspired'], ['this', 'is', 'the', 'place', 'where', 'i', 'first', 'had', 'pho', 'and', 'it', 'was', 'amazing'], ['this', 'wonderful', 'experience', 'made', 'this', 'place', 'a', 'muststop', 'whenever', 'we', 'are', 'in', 'town', 'again'], ['if', 'the', 'food', 'isnt', 'bad', 'enough', 'for', 'you', 'then', 'enjoy', 'dealing', 'with', 'the', 'worlds', 'worstannoying', 'drunk', 'people'], ['very', 'very', 'fun', 'chef'], ['ordered', 'a', 'double', 'cheeseburger', 'got', 'a', 'single', 'patty', 'that', 'was', 'falling', 'apart', 'picture', 'uploaded', 'yeah', 'still', 'sucks'], ['great', 'place', 'to', 'have', 'a', 'couple', 'drinks', 'and', 'watch', 'any', 'and', 'all', 'sporting', 'events', 'as', 'the', 'walls', 'are', 'covered', 'with', 'tvs'], ['if', 'it', 'were', 'possible', 'to', 'give', 'them', 'zero', 'stars', 'theyd', 'have', 'it'], ['the', 'descriptions', 'said', 'yum', 'yum', 'sauce', 'and', 'another', 'said', 'eel', 'sauce', 'yet', 'another', 'said', 'spicy', 'mayowell', 'none', 'of', 'the', 'rolls', 'had', 'sauces', 'on', 'them'], ['id', 'say', 'that', 'would', 'be', 'the', 'hardest', 'decision', 'honestly', 'all', 'of', 'ms', 'dishes', 'taste', 'how', 'they', 'are', 'supposed', 'to', 'taste', 'amazing'], ['if', 'she', 'had', 'not', 'rolled', 'the', 'eyes', 'we', 'may', 'have', 'stayed', 'not', 'sure', 'if', 'we', 'will', 'go', 'back', 'and', 'try', 'it', 'again'], ['everyone', 'is', 'very', 'attentive', 'providing', 'excellent', 'customer', 'service'], ['horrible', 'dont', 'waste', 'your', 'time', 'and', 'money'], ['now', 'this', 'dish', 'was', 'quite', 'flavourful'], ['by', 'this', 'time', 'our', 'side', 'of', 'the', 'restaurant', 'was', 'almost', 'empty', 'so', 'there', 'was', 'no', 'excuse'], ['it', 'wasnt', 'busy', 'either', 'also', 'the', 'building', 'was', 'freezing', 'cold'], ['like', 'the', 'other', 'reviewer', 'said', 'you', 'couldnt', 'pay', 'me', 'to', 'eat', 'at', 'this', 'place', 'again'], ['drinks', 'took', 'close', 'to', 'minutes', 'to', 'come', 'out', 'at', 'one', 'point'], ['seriously', 'flavorful', 'delights', 'folks'], ['much', 'better', 'than', 'the', 'other', 'ayce', 'sushi', 'place', 'i', 'went', 'to', 'in', 'vegas'], ['the', 'lighting', 'is', 'just', 'dark', 'enough', 'to', 'set', 'the', 'mood'], ['based', 'on', 'the', 'subpar', 'service', 'i', 'received', 'and', 'no', 'effort', 'to', 'show', 'their', 'gratitude', 'for', 'my', 'business', 'i', 'wont', 'be', 'going', 'back'], ['owners', 'are', 'really', 'great', 'people'], ['there', 'is', 'nothing', 'privileged', 'about', 'workingeating', 'there'], ['the', 'greek', 'dressing', 'was', 'very', 'creamy', 'and', 'flavorful'], ['overall', 'i', 'dont', 'think', 'that', 'i', 'would', 'take', 'my', 'parents', 'to', 'this', 'place', 'again', 'because', 'they', 'made', 'most', 'of', 'the', 'similar', 'complaints', 'that', 'i', 'silently', 'felt', 'too'], ['now', 'the', 'pizza', 'itself', 'was', 'good', 'the', 'peanut', 'sauce', 'was', 'very', 'tasty'], ['we', 'had', 'at', 'our', 'table', 'and', 'the', 'service', 'was', 'pretty', 'fast'], ['fantastic', 'service', 'here'], ['i', 'as', 'well', 'wouldve', 'given', 'godfathers', 'zero', 'stars', 'if', 'possible'], ['they', 'know', 'how', 'to', 'make', 'them', 'here'], ['very', 'tough', 'and', 'very', 'short', 'on', 'flavor'], ['i', 'hope', 'this', 'place', 'sticks', 'around'], ['i', 'have', 'been', 'in', 'more', 'than', 'a', 'few', 'bars', 'in', 'vegas', 'and', 'do', 'not', 'ever', 'recall', 'being', 'charged', 'for', 'tap', 'water'], ['the', 'restaurant', 'atmosphere', 'was', 'exquisite'], ['good', 'service', 'very', 'clean', 'and', 'inexpensive', 'to', 'boot'], ['the', 'seafood', 'was', 'fresh', 'and', 'generous', 'in', 'portion'], ['plus', 'its', 'only', 'bucks'], ['the', 'service', 'was', 'not', 'up', 'to', 'par', 'either'], ['thus', 'far', 'have', 'only', 'visited', 'twice', 'and', 'the', 'food', 'was', 'absolutely', 'delicious', 'each', 'time'], ['just', 'as', 'good', 'as', 'when', 'i', 'had', 'it', 'more', 'than', 'a', 'year', 'ago'], ['for', 'a', 'self', 'proclaimed', 'coffee', 'cafe', 'i', 'was', 'wildly', 'disappointed'], ['the', 'veggitarian', 'platter', 'is', 'out', 'of', 'this', 'world'], ['you', 'cant', 'go', 'wrong', 'with', 'any', 'of', 'the', 'food', 'here'], ['you', 'cant', 'beat', 'that'], ['stopped', 'by', 'this', 'place', 'while', 'in', 'madison', 'for', 'the', 'ironman', 'very', 'friendly', 'kind', 'staff'], ['the', 'chefs', 'were', 'friendly', 'and', 'did', 'a', 'good', 'job'], ['ive', 'had', 'better', 'not', 'only', 'from', 'dedicated', 'boba', 'tea', 'spots', 'but', 'even', 'from', 'jenni', 'pho'], ['i', 'liked', 'the', 'patio', 'and', 'the', 'service', 'was', 'outstanding'], ['the', 'goat', 'taco', 'didnt', 'skimp', 'on', 'the', 'meat', 'and', 'wow', 'what', 'flavor'], ['i', 'think', 'not', 'again'], ['i', 'had', 'the', 'mac', 'salad', 'and', 'it', 'was', 'pretty', 'bland', 'so', 'i', 'will', 'not', 'be', 'getting', 'that', 'again'], ['i', 'went', 'to', 'bachi', 'burger', 'on', 'a', 'friends', 'recommendation', 'and', 'was', 'not', 'disappointed'], ['service', 'stinks', 'here'], ['i', 'waited', 'and', 'waited'], ['this', 'place', 'is', 'not', 'quality', 'sushi', 'it', 'is', 'not', 'a', 'quality', 'restaurant'], ['i', 'would', 'definitely', 'recommend', 'the', 'wings', 'as', 'well', 'as', 'the', 'pizza'], ['great', 'pizza', 'and', 'salads'], ['things', 'that', 'went', 'wrong', 'they', 'burned', 'the', 'saganaki'], ['we', 'waited', 'an', 'hour', 'for', 'what', 'was', 'a', 'breakfast', 'i', 'could', 'have', 'done', 'times', 'better', 'at', 'home'], ['this', 'place', 'is', 'amazing'], ['i', 'hate', 'to', 'disagree', 'with', 'my', 'fellow', 'yelpers', 'but', 'my', 'husband', 'and', 'i', 'were', 'so', 'disappointed', 'with', 'this', 'place'], ['waited', 'hours', 'never', 'got', 'either', 'of', 'our', 'pizzas', 'as', 'many', 'other', 'around', 'us', 'who', 'came', 'in', 'later', 'did'], ['just', 'dont', 'know', 'why', 'they', 'were', 'so', 'slow'], ['the', 'staff', 'is', 'great', 'the', 'food', 'is', 'delish', 'and', 'they', 'have', 'an', 'incredible', 'beer', 'selection'], ['i', 'live', 'in', 'the', 'neighborhood', 'so', 'i', 'am', 'disappointed', 'i', 'wont', 'be', 'back', 'here', 'because', 'it', 'is', 'a', 'convenient', 'location'], ['i', 'didnt', 'know', 'pulled', 'pork', 'could', 'be', 'soooo', 'delicious'], ['you', 'get', 'incredibly', 'fresh', 'fish', 'prepared', 'with', 'care'], ['before', 'i', 'go', 'in', 'to', 'why', 'i', 'gave', 'a', 'star', 'rating', 'please', 'know', 'that', 'this', 'was', 'my', 'third', 'time', 'eating', 'at', 'bachi', 'burger', 'before', 'writing', 'a', 'review'], ['i', 'love', 'the', 'fact', 'that', 'everything', 'on', 'their', 'menu', 'is', 'worth', 'it'], ['never', 'again', 'will', 'i', 'be', 'dining', 'at', 'this', 'place'], ['the', 'food', 'was', 'excellent', 'and', 'service', 'was', 'very', 'good'], ['good', 'beer', 'drink', 'selection', 'and', 'good', 'food', 'selection'], ['please', 'stay', 'away', 'from', 'the', 'shrimp', 'stir', 'fried', 'noodles'], ['the', 'potato', 'chip', 'order', 'was', 'sad', 'i', 'could', 'probably', 'count', 'how', 'many', 'chips', 'were', 'in', 'that', 'box', 'and', 'it', 'was', 'probably', 'around'], ['food', 'was', 'really', 'boring'], ['good', 'servicecheck'], ['this', 'greedy', 'corporation', 'will', 'never', 'see', 'another', 'dime', 'from', 'me'], ['will', 'never', 'ever', 'go', 'back'], ['as', 'much', 'as', 'id', 'like', 'to', 'go', 'back', 'i', 'cant', 'get', 'passed', 'the', 'atrocious', 'service', 'and', 'will', 'never', 'return'], ['in', 'the', 'summer', 'you', 'can', 'dine', 'in', 'a', 'charming', 'outdoor', 'patio', 'so', 'very', 'delightful'], ['i', 'did', 'not', 'expect', 'this', 'to', 'be', 'so', 'good'], ['fantastic', 'food'], ['she', 'ordered', 'a', 'toasted', 'english', 'muffin', 'that', 'came', 'out', 'untoasted'], ['the', 'food', 'was', 'very', 'good'], ['never', 'going', 'back'], ['great', 'food', 'for', 'the', 'price', 'which', 'is', 'very', 'high', 'quality', 'and', 'house', 'made'], ['the', 'bus', 'boy', 'on', 'the', 'other', 'hand', 'was', 'so', 'rude'], ['by', 'this', 'point', 'my', 'friends', 'and', 'i', 'had', 'basically', 'figured', 'out', 'this', 'place', 'was', 'a', 'joke', 'and', 'didnt', 'mind', 'making', 'it', 'publicly', 'and', 'loudly', 'known'], ['back', 'to', 'good', 'bbq', 'lighter', 'fare', 'reasonable', 'pricing', 'and', 'tell', 'the', 'public', 'they', 'are', 'back', 'to', 'the', 'old', 'ways'], ['and', 'considering', 'the', 'two', 'of', 'us', 'left', 'there', 'very', 'full', 'and', 'happy', 'for', 'about', 'you', 'just', 'cant', 'go', 'wrong'], ['all', 'the', 'bread', 'is', 'made', 'inhouse'], ['the', 'only', 'downside', 'is', 'the', 'service'], ['also', 'the', 'fries', 'are', 'without', 'a', 'doubt', 'the', 'worst', 'fries', 'ive', 'ever', 'had'], ['service', 'was', 'exceptional', 'and', 'food', 'was', 'a', 'good', 'as', 'all', 'the', 'reviews'], ['a', 'couple', 'of', 'months', 'later', 'i', 'returned', 'and', 'had', 'an', 'amazing', 'meal'], ['favorite', 'place', 'in', 'town', 'for', 'shawarrrrrrma'], ['the', 'black', 'eyed', 'peas', 'and', 'sweet', 'potatoes', 'unreal'], ['you', 'wont', 'be', 'disappointed'], ['they', 'could', 'serve', 'it', 'with', 'just', 'the', 'vinaigrette', 'and', 'it', 'may', 'make', 'for', 'a', 'better', 'overall', 'dish', 'but', 'it', 'was', 'still', 'very', 'good'], ['i', 'go', 'to', 'far', 'too', 'many', 'places', 'and', 'ive', 'never', 'seen', 'any', 'restaurant', 'that', 'serves', 'a', 'egg', 'breakfast', 'especially', 'for'], ['when', 'my', 'mom', 'and', 'i', 'got', 'home', 'she', 'immediately', 'got', 'sick', 'and', 'she', 'only', 'had', 'a', 'few', 'bites', 'of', 'salad'], ['the', 'servers', 'are', 'not', 'pleasant', 'to', 'deal', 'with', 'and', 'they', 'dont', 'always', 'honor', 'pizza', 'hut', 'coupons'], ['both', 'of', 'them', 'were', 'truly', 'unbelievably', 'good', 'and', 'i', 'am', 'so', 'glad', 'we', 'went', 'back'], ['we', 'had', 'fantastic', 'service', 'and', 'were', 'pleased', 'by', 'the', 'atmosphere'], ['everything', 'was', 'gross'], ['i', 'love', 'this', 'place'], ['great', 'service', 'and', 'food'], ['first', 'the', 'bathrooms', 'at', 'this', 'location', 'were', 'dirty', 'seat', 'covers', 'were', 'not', 'replenished', 'just', 'plain', 'yucky'], ['the', 'burger', 'i', 'got', 'the', 'gold', 'standard', 'a', 'burger', 'and', 'was', 'kind', 'of', 'disappointed'], ['omg', 'the', 'food', 'was', 'delicioso'], ['there', 'is', 'nothing', 'authentic', 'about', 'this', 'place'], ['the', 'spaghetti', 'is', 'nothing', 'special', 'whatsoever'], ['of', 'all', 'the', 'dishes', 'the', 'salmon', 'was', 'the', 'best', 'but', 'all', 'were', 'great'], ['the', 'vegetables', 'are', 'so', 'fresh', 'and', 'the', 'sauce', 'feels', 'like', 'authentic', 'thai'], ['its', 'worth', 'driving', 'up', 'from', 'tucson'], ['the', 'selection', 'was', 'probably', 'the', 'worst', 'ive', 'seen', 'in', 'vegasthere', 'was', 'none'], ['pretty', 'good', 'beer', 'selection', 'too'], ['this', 'place', 'is', 'like', 'chipotle', 'but', 'better'], ['classywarm', 'atmosphere', 'fun', 'and', 'fresh', 'appetizers', 'succulent', 'steaks', 'baseball', 'steak'], ['stars', 'for', 'the', 'brick', 'oven', 'bread', 'app'], ['i', 'have', 'eaten', 'here', 'multiple', 'times', 'and', 'each', 'time', 'the', 'food', 'was', 'delicious'], ['we', 'sat', 'another', 'ten', 'minutes', 'and', 'finally', 'gave', 'up', 'and', 'left'], ['he', 'was', 'terrible'], ['everyone', 'is', 'treated', 'equally', 'special'], ['it', 'shouldnt', 'take', 'min', 'for', 'pancakes', 'and', 'eggs'], ['it', 'was', 'delicious'], ['on', 'the', 'good', 'side', 'the', 'staff', 'was', 'genuinely', 'pleasant', 'and', 'enthusiastic', 'a', 'real', 'treat'], ['sadly', 'gordon', 'ramseys', 'steak', 'is', 'a', 'place', 'we', 'shall', 'sharply', 'avoid', 'during', 'our', 'next', 'trip', 'to', 'vegas'], ['as', 'always', 'the', 'evening', 'was', 'wonderful', 'and', 'the', 'food', 'delicious'], ['best', 'fish', 'ive', 'ever', 'had', 'in', 'my', 'life'], ['the', 'bathroom', 'is', 'just', 'next', 'door', 'and', 'very', 'nice'], ['the', 'buffet', 'is', 'small', 'and', 'all', 'the', 'food', 'they', 'offered', 'was', 'bland'], ['this', 'is', 'an', 'outstanding', 'little', 'restaurant', 'with', 'some', 'of', 'the', 'best', 'food', 'i', 'have', 'ever', 'tasted'], ['pretty', 'cool', 'i', 'would', 'say'], ['definitely', 'a', 'turn', 'off', 'for', 'me', 'i', 'doubt', 'ill', 'be', 'back', 'unless', 'someone', 'else', 'is', 'buying'], ['server', 'did', 'a', 'great', 'job', 'handling', 'our', 'large', 'rowdy', 'table'], ['i', 'find', 'wasting', 'food', 'to', 'be', 'despicable', 'but', 'this', 'just', 'wasnt', 'food'], ['my', 'wife', 'had', 'the', 'lobster', 'bisque', 'soup', 'which', 'was', 'lukewarm'], ['would', 'come', 'back', 'again', 'if', 'i', 'had', 'a', 'sushi', 'craving', 'while', 'in', 'vegas'], ['the', 'staff', 'are', 'great', 'the', 'ambiance', 'is', 'great'], ['he', 'deserves', 'stars'], ['i', 'left', 'with', 'a', 'stomach', 'ache', 'and', 'felt', 'sick', 'the', 'rest', 'of', 'the', 'day'], ['they', 'dropped', 'more', 'than', 'the', 'ball'], ['the', 'dining', 'space', 'is', 'tiny', 'but', 'elegantly', 'decorated', 'and', 'comfortable'], ['they', 'will', 'customize', 'your', 'order', 'any', 'way', 'youd', 'like', 'my', 'usual', 'is', 'eggplant', 'with', 'green', 'bean', 'stir', 'fry', 'love', 'it'], ['and', 'the', 'beans', 'and', 'rice', 'were', 'mediocre', 'at', 'best'], ['best', 'tacos', 'in', 'town', 'by', 'far'], ['i', 'took', 'back', 'my', 'money', 'and', 'got', 'outta', 'there'], ['in', 'an', 'interesting', 'part', 'of', 'town', 'this', 'place', 'is', 'amazing'], ['rude', 'inconsiderate', 'management'], ['the', 'staff', 'are', 'now', 'not', 'as', 'friendly', 'the', 'wait', 'times', 'for', 'being', 'served', 'are', 'horrible', 'no', 'one', 'even', 'says', 'hi', 'for', 'the', 'first', 'minutes'], ['i', 'wont', 'be', 'back'], ['they', 'have', 'great', 'dinners'], ['the', 'service', 'was', 'outshining', 'i', 'definitely', 'recommend', 'the', 'halibut'], ['the', 'food', 'was', 'terrible'], ['will', 'never', 'ever', 'go', 'back', 'and', 'have', 'told', 'many', 'people', 'what', 'had', 'happened'], ['i', 'dont', 'recommend', 'unless', 'your', 'car', 'breaks', 'down', 'in', 'front', 'of', 'it', 'and', 'you', 'are', 'starving'], ['i', 'will', 'come', 'back', 'here', 'every', 'time', 'im', 'in', 'vegas'], ['this', 'place', 'deserves', 'one', 'star', 'and', 'has', 'to', 'do', 'with', 'the', 'food'], ['this', 'is', 'a', 'disgrace'], ['def', 'coming', 'back', 'to', 'bowl', 'next', 'time'], ['if', 'you', 'want', 'healthy', 'authentic', 'or', 'ethic', 'food', 'try', 'this', 'place'], ['i', 'will', 'continue', 'to', 'come', 'here', 'on', 'ladies', 'night', 'andddd', 'date', 'night', 'highly', 'recommend', 'this', 'place', 'to', 'anyone', 'who', 'is', 'in', 'the', 'area'], ['i', 'have', 'been', 'here', 'several', 'times', 'in', 'the', 'past', 'and', 'the', 'experience', 'has', 'always', 'been', 'great'], ['we', 'walked', 'away', 'stuffed', 'and', 'happy', 'about', 'our', 'first', 'vegas', 'buffet', 'experience'], ['service', 'was', 'excellent', 'and', 'prices', 'are', 'pretty', 'reasonable', 'considering', 'this', 'is', 'vegas', 'and', 'located', 'inside', 'the', 'crystals', 'shopping', 'mall', 'by', 'aria'], ['to', 'summarize', 'the', 'food', 'was', 'incredible', 'nay', 'transcendant', 'but', 'nothing', 'brings', 'me', 'joy', 'quite', 'like', 'the', 'memory', 'of', 'the', 'pneumatic', 'condiment', 'dispenser'], ['im', 'probably', 'one', 'of', 'the', 'few', 'people', 'to', 'ever', 'go', 'to', 'ians', 'and', 'not', 'like', 'it'], ['kids', 'pizza', 'is', 'always', 'a', 'hit', 'too', 'with', 'lots', 'of', 'great', 'side', 'dish', 'options', 'for', 'the', 'kiddos'], ['service', 'is', 'perfect', 'and', 'the', 'family', 'atmosphere', 'is', 'nice', 'to', 'see'], ['cooked', 'to', 'perfection', 'and', 'the', 'service', 'was', 'impeccable'], ['this', 'one', 'is', 'simply', 'a', 'disappointment'], ['overall', 'i', 'was', 'very', 'disappointed', 'with', 'the', 'quality', 'of', 'food', 'at', 'bouchon'], ['i', 'dont', 'have', 'to', 'be', 'an', 'accountant', 'to', 'know', 'im', 'getting', 'screwed'], ['great', 'place', 'to', 'eat', 'reminds', 'me', 'of', 'the', 'little', 'mom', 'and', 'pop', 'shops', 'in', 'the', 'san', 'francisco', 'bay', 'area'], ['today', 'was', 'my', 'first', 'taste', 'of', 'a', 'buldogis', 'gourmet', 'hot', 'dog', 'and', 'i', 'have', 'to', 'tell', 'you', 'it', 'was', 'more', 'than', 'i', 'ever', 'thought', 'possible'], ['left', 'very', 'frustrated'], ['ill', 'definitely', 'be', 'in', 'soon', 'again'], ['food', 'was', 'really', 'good', 'and', 'i', 'got', 'full', 'petty', 'fast'], ['service', 'was', 'fantastic'], ['total', 'waste', 'of', 'time'], ['i', 'dont', 'know', 'what', 'kind', 'it', 'is', 'but', 'they', 'have', 'the', 'best', 'iced', 'tea'], ['come', 'hungry', 'leave', 'happy', 'and', 'stuffed'], ['for', 'service', 'i', 'give', 'them', 'no', 'stars'], ['i', 'can', 'assure', 'you', 'that', 'you', 'wont', 'be', 'disappointed'], ['i', 'can', 'take', 'a', 'little', 'bad', 'service', 'but', 'the', 'food', 'sucks'], ['gave', 'up', 'trying', 'to', 'eat', 'any', 'of', 'the', 'crust', 'teeth', 'still', 'sore'], ['but', 'now', 'i', 'was', 'completely', 'grossed', 'out'], ['i', 'really', 'enjoyed', 'eating', 'here'], ['first', 'time', 'going', 'but', 'i', 'think', 'i', 'will', 'quickly', 'become', 'a', 'regular'], ['our', 'server', 'was', 'very', 'nice', 'and', 'even', 'though', 'he', 'looked', 'a', 'little', 'overwhelmed', 'with', 'all', 'of', 'our', 'needs', 'he', 'stayed', 'professional', 'and', 'friendly', 'until', 'the', 'end'], ['from', 'what', 'my', 'dinner', 'companions', 'told', 'meeverything', 'was', 'very', 'fresh', 'with', 'nice', 'texture', 'and', 'taste'], ['on', 'the', 'ground', 'right', 'next', 'to', 'our', 'table', 'was', 'a', 'large', 'smeared', 'beensteppedinandtrackedeverywhere', 'pile', 'of', 'green', 'bird', 'poop'], ['furthermore', 'you', 'cant', 'even', 'find', 'hours', 'of', 'operation', 'on', 'the', 'website'], ['weve', 'tried', 'to', 'like', 'this', 'place', 'but', 'after', 'times', 'i', 'think', 'were', 'done', 'with', 'them'], ['what', 'a', 'mistake', 'that', 'was'], ['no', 'complaints'], ['this', 'is', 'some', 'seriously', 'good', 'pizza', 'and', 'im', 'an', 'expertconnisseur', 'on', 'the', 'topic'], ['waiter', 'was', 'a', 'jerk'], ['strike', 'who', 'wants', 'to', 'be', 'rushed'], ['these', 'are', 'the', 'nicest', 'restaurant', 'owners', 'ive', 'ever', 'come', 'across'], ['i', 'never', 'come', 'again'], ['we', 'loved', 'the', 'biscuits'], ['service', 'is', 'quick', 'and', 'friendly'], ['ordered', 'an', 'appetizer', 'and', 'took', 'minutes', 'and', 'then', 'the', 'pizza', 'another', 'minutes'], ['so', 'absolutley', 'fantastic'], ['it', 'was', 'a', 'huge', 'awkward', 'lb', 'piece', 'of', 'cow', 'that', 'was', 'ths', 'gristle', 'and', 'fat'], ['definitely', 'will', 'come', 'back', 'here', 'again'], ['i', 'like', 'steiners', 'because', 'its', 'dark', 'and', 'it', 'feels', 'like', 'a', 'bar'], ['wow', 'very', 'spicy', 'but', 'delicious'], ['if', 'youre', 'not', 'familiar', 'check', 'it', 'out'], ['ill', 'take', 'my', 'business', 'dinner', 'dollars', 'elsewhere'], ['id', 'love', 'to', 'go', 'back'], ['anyway', 'this', 'fs', 'restaurant', 'has', 'a', 'wonderful', 'breakfastlunch'], ['nothing', 'special'], ['each', 'day', 'of', 'the', 'week', 'they', 'have', 'a', 'different', 'deal', 'and', 'its', 'all', 'so', 'delicious'], ['not', 'to', 'mention', 'the', 'combination', 'of', 'pears', 'almonds', 'and', 'bacon', 'is', 'a', 'big', 'winner'], ['will', 'not', 'be', 'back'], ['sauce', 'was', 'tasteless'], ['the', 'food', 'is', 'delicious', 'and', 'just', 'spicy', 'enough', 'so', 'be', 'sure', 'to', 'ask', 'for', 'spicier', 'if', 'you', 'prefer', 'it', 'that', 'way'], ['my', 'ribeye', 'steak', 'was', 'cooked', 'perfectly', 'and', 'had', 'great', 'mesquite', 'flavor'], ['i', 'dont', 'think', 'well', 'be', 'going', 'back', 'anytime', 'soon'], ['food', 'was', 'so', 'gooodd'], ['i', 'am', 'far', 'from', 'a', 'sushi', 'connoisseur', 'but', 'i', 'can', 'definitely', 'tell', 'the', 'difference', 'between', 'good', 'food', 'and', 'bad', 'food', 'and', 'this', 'was', 'certainly', 'bad', 'food'], ['i', 'was', 'so', 'insulted'], ['the', 'last', 'times', 'i', 'had', 'lunch', 'here', 'has', 'been', 'bad'], ['the', 'chicken', 'wings', 'contained', 'the', 'driest', 'chicken', 'meat', 'i', 'have', 'ever', 'eaten'], ['the', 'food', 'was', 'very', 'good', 'and', 'i', 'enjoyed', 'every', 'mouthful', 'an', 'enjoyable', 'relaxed', 'venue', 'for', 'couples', 'small', 'family', 'groups', 'etc'], ['nargile', 'i', 'think', 'you', 'are', 'great'], ['best', 'tater', 'tots', 'in', 'the', 'southwest'], ['we', 'loved', 'the', 'place'], ['definitely', 'not', 'worth', 'the', 'i', 'paid'], ['the', 'vanilla', 'ice', 'cream', 'was', 'creamy', 'and', 'smooth', 'while', 'the', 'profiterole', 'choux', 'pastry', 'was', 'fresh', 'enough'], ['im', 'in', 'az', 'all', 'the', 'time', 'and', 'now', 'have', 'my', 'new', 'spot'], ['the', 'manager', 'was', 'the', 'worst'], ['the', 'inside', 'is', 'really', 'quite', 'nice', 'and', 'very', 'clean'], ['the', 'food', 'was', 'outstanding', 'and', 'the', 'prices', 'were', 'very', 'reasonable'], ['i', 'dont', 'think', 'ill', 'be', 'running', 'back', 'to', 'carlys', 'anytime', 'soon', 'for', 'food'], ['this', 'is', 'was', 'due', 'to', 'the', 'fact', 'that', 'it', 'took', 'minutes', 'to', 'be', 'acknowledged', 'then', 'another', 'minutes', 'to', 'get', 'our', 'foodand', 'they', 'kept', 'forgetting', 'things'], ['love', 'the', 'margaritas', 'too'], ['this', 'was', 'my', 'first', 'and', 'only', 'vegas', 'buffet', 'and', 'it', 'did', 'not', 'disappoint'], ['very', 'good', 'though'], ['the', 'one', 'down', 'note', 'is', 'the', 'ventilation', 'could', 'use', 'some', 'upgrading'], ['great', 'pork', 'sandwich'], ['dont', 'waste', 'your', 'time', 'here'], ['total', 'letdown', 'i', 'would', 'much', 'rather', 'just', 'go', 'to', 'the', 'camelback', 'flower', 'shop', 'and', 'cartel', 'coffee'], ['third', 'the', 'cheese', 'on', 'my', 'friends', 'burger', 'was', 'cold'], ['we', 'enjoy', 'their', 'pizza', 'and', 'brunch'], ['the', 'steaks', 'are', 'all', 'well', 'trimmed', 'and', 'also', 'perfectly', 'cooked'], ['we', 'had', 'a', 'group', 'of', 'when', 'we', 'claimed', 'we', 'would', 'only', 'have', 'and', 'they', 'handled', 'us', 'beautifully'], ['i', 'loved', 'it'], ['we', 'asked', 'for', 'the', 'bill', 'to', 'leave', 'without', 'eating', 'and', 'they', 'didnt', 'bring', 'that', 'either'], ['this', 'place', 'is', 'a', 'jewel', 'in', 'las', 'vegas', 'and', 'exactly', 'what', 'ive', 'been', 'hoping', 'to', 'find', 'in', 'nearly', 'ten', 'years', 'living', 'here'], ['seafood', 'was', 'limited', 'to', 'boiled', 'shrimp', 'and', 'crab', 'legs', 'but', 'the', 'crab', 'legs', 'definitely', 'did', 'not', 'taste', 'fresh'], ['the', 'selection', 'of', 'food', 'was', 'not', 'the', 'best'], ['delicious', 'and', 'i', 'will', 'absolutely', 'be', 'back'], ['this', 'isnt', 'a', 'small', 'family', 'restaurant', 'this', 'is', 'a', 'fine', 'dining', 'establishment'], ['they', 'had', 'a', 'toro', 'tartare', 'with', 'a', 'cavier', 'that', 'was', 'extraordinary', 'and', 'i', 'liked', 'the', 'thinly', 'sliced', 'wagyu', 'with', 'white', 'truffle'], ['i', 'dont', 'think', 'i', 'will', 'be', 'back', 'for', 'a', 'very', 'long', 'time'], ['it', 'was', 'attached', 'to', 'a', 'gas', 'station', 'and', 'that', 'is', 'rarely', 'a', 'good', 'sign'], ['how', 'awesome', 'is', 'that'], ['i', 'will', 'be', 'back', 'many', 'times', 'soon'], ['the', 'menu', 'had', 'so', 'much', 'good', 'stuff', 'on', 'it', 'i', 'could', 'not', 'decide'], ['worse', 'of', 'all', 'he', 'humiliated', 'his', 'worker', 'right', 'in', 'front', 'of', 'mebunch', 'of', 'horrible', 'name', 'callings'], ['conclusion', 'very', 'filling', 'meals'], ['their', 'daily', 'specials', 'are', 'always', 'a', 'hit', 'with', 'my', 'group'], ['and', 'then', 'tragedy', 'struck'], ['the', 'pancake', 'was', 'also', 'really', 'good', 'and', 'pretty', 'large', 'at', 'that'], ['this', 'was', 'my', 'first', 'crawfish', 'experience', 'and', 'it', 'was', 'delicious'], ['their', 'monster', 'chicken', 'fried', 'steak', 'and', 'eggs', 'is', 'my', 'all', 'time', 'favorite'], ['waitress', 'was', 'sweet', 'and', 'funny'], ['i', 'also', 'had', 'to', 'taste', 'my', 'moms', 'multigrain', 'pumpkin', 'pancakes', 'with', 'pecan', 'butter', 'and', 'they', 'were', 'amazing', 'fluffy', 'and', 'delicious'], ['id', 'rather', 'eat', 'airline', 'food', 'seriously'], ['cant', 'say', 'enough', 'good', 'things', 'about', 'this', 'place'], ['the', 'ambiance', 'was', 'incredible'], ['the', 'waitress', 'and', 'manager', 'are', 'so', 'friendly'], ['i', 'would', 'not', 'recommend', 'this', 'place'], ['overall', 'i', 'wasnt', 'very', 'impressed', 'with', 'noca'], ['my', 'gyro', 'was', 'basically', 'lettuce', 'only'], ['terrible', 'service'], ['thoroughly', 'disappointed'], ['i', 'dont', 'each', 'much', 'pasta', 'but', 'i', 'love', 'the', 'homemade', 'hand', 'made', 'pastas', 'and', 'thin', 'pizzas', 'here'], ['give', 'it', 'a', 'try', 'you', 'will', 'be', 'happy', 'you', 'did'], ['by', 'far', 'the', 'best', 'cheesecurds', 'we', 'have', 'ever', 'had'], ['reasonably', 'priced', 'also'], ['everything', 'was', 'perfect', 'the', 'night', 'we', 'were', 'in'], ['the', 'food', 'is', 'very', 'good', 'for', 'your', 'typical', 'bar', 'food'], ['it', 'was', 'a', 'drive', 'to', 'get', 'there'], ['at', 'first', 'glance', 'it', 'is', 'a', 'lovely', 'bakery', 'cafe', 'nice', 'ambiance', 'clean', 'friendly', 'staff'], ['anyway', 'i', 'do', 'not', 'think', 'i', 'will', 'go', 'back', 'there'], ['point', 'your', 'finger', 'at', 'any', 'item', 'on', 'the', 'menu', 'order', 'it', 'and', 'you', 'wont', 'be', 'disappointed'], ['oh', 'this', 'is', 'such', 'a', 'thing', 'of', 'beauty', 'this', 'restaurant'], ['if', 'you', 'havent', 'gone', 'here', 'go', 'now'], ['a', 'greasy', 'unhealthy', 'meal'], ['first', 'time', 'there', 'and', 'might', 'just', 'be', 'the', 'last'], ['those', 'burgers', 'were', 'amazing'], ['similarly', 'the', 'delivery', 'man', 'did', 'not', 'say', 'a', 'word', 'of', 'apology', 'when', 'our', 'food', 'was', 'minutes', 'late'], ['and', 'it', 'was', 'way', 'to', 'expensive'], ['be', 'sure', 'to', 'order', 'dessert', 'even', 'if', 'you', 'need', 'to', 'pack', 'it', 'togo', 'the', 'tiramisu', 'and', 'cannoli', 'are', 'both', 'to', 'die', 'for'], ['this', 'was', 'my', 'first', 'time', 'and', 'i', 'cant', 'wait', 'until', 'the', 'next'], ['the', 'bartender', 'was', 'also', 'nice'], ['everything', 'was', 'good', 'and', 'tasty'], ['this', 'place', 'is', 'two', 'thumbs', 'upway', 'up'], ['the', 'best', 'place', 'in', 'vegas', 'for', 'breakfast', 'just', 'check', 'out', 'a', 'sat', 'or', 'sun'], ['if', 'you', 'love', 'authentic', 'mexican', 'food', 'and', 'want', 'a', 'whole', 'bunch', 'of', 'interesting', 'yet', 'delicious', 'meats', 'to', 'choose', 'from', 'you', 'need', 'to', 'try', 'this', 'place'], ['terrible', 'management'], ['an', 'excellent', 'new', 'restaurant', 'by', 'an', 'experienced', 'frenchman'], ['if', 'there', 'were', 'zero', 'stars', 'i', 'would', 'give', 'it', 'zero', 'stars'], ['great', 'steak', 'great', 'sides', 'great', 'wine', 'amazing', 'desserts'], ['worst', 'martini', 'ever'], ['the', 'steak', 'and', 'the', 'shrimp', 'are', 'in', 'my', 'opinion', 'the', 'best', 'entrees', 'at', 'gc'], ['i', 'had', 'the', 'opportunity', 'today', 'to', 'sample', 'your', 'amazing', 'pizzas'], ['we', 'waited', 'for', 'thirty', 'minutes', 'to', 'be', 'seated', 'although', 'there', 'were', 'vacant', 'tables', 'and', 'we', 'were', 'the', 'only', 'folks', 'waiting'], ['the', 'yellowtail', 'carpaccio', 'was', 'melt', 'in', 'your', 'mouth', 'fresh'], ['i', 'wont', 'try', 'going', 'back', 'there', 'even', 'if', 'its', 'empty'], ['no', 'im', 'going', 'to', 'eat', 'the', 'potato', 'that', 'i', 'found', 'some', 'strangers', 'hair', 'in', 'it'], ['just', 'spicy', 'enough', 'perfect', 'actually'], ['last', 'night', 'was', 'my', 'second', 'time', 'dining', 'here', 'and', 'i', 'was', 'so', 'happy', 'i', 'decided', 'to', 'go', 'back'], ['not', 'even', 'a', 'hello', 'we', 'will', 'be', 'right', 'with', 'you'], ['the', 'desserts', 'were', 'a', 'bit', 'strange'], ['my', 'boyfriend', 'and', 'i', 'came', 'here', 'for', 'the', 'first', 'time', 'on', 'a', 'recent', 'trip', 'to', 'vegas', 'and', 'could', 'not', 'have', 'been', 'more', 'pleased', 'with', 'the', 'quality', 'of', 'food', 'and', 'service'], ['i', 'really', 'do', 'recommend', 'this', 'place', 'you', 'can', 'go', 'wrong', 'with', 'this', 'donut', 'place'], ['nice', 'ambiance'], ['i', 'would', 'recommend', 'saving', 'room', 'for', 'this'], ['i', 'guess', 'maybe', 'we', 'went', 'on', 'an', 'off', 'night', 'but', 'it', 'was', 'disgraceful'], ['however', 'my', 'recent', 'experience', 'at', 'this', 'particular', 'location', 'was', 'not', 'so', 'good'], ['i', 'know', 'this', 'is', 'not', 'like', 'the', 'other', 'restaurants', 'at', 'all', 'something', 'is', 'very', 'off', 'here'], ['avoid', 'this', 'establishment'], ['i', 'think', 'this', 'restaurant', 'suffers', 'from', 'not', 'trying', 'hard', 'enough'], ['all', 'of', 'the', 'tapas', 'dishes', 'were', 'delicious'], ['i', 'heart', 'this', 'place'], ['my', 'salad', 'had', 'a', 'bland', 'vinegrette', 'on', 'the', 'baby', 'greens', 'and', 'hearts', 'of', 'palm'], ['after', 'two', 'i', 'felt', 'disgusting'], ['a', 'good', 'time'], ['i', 'believe', 'that', 'this', 'place', 'is', 'a', 'great', 'stop', 'for', 'those', 'with', 'a', 'huge', 'belly', 'and', 'hankering', 'for', 'sushi'], ['generous', 'portions', 'and', 'great', 'taste'], ['i', 'will', 'never', 'go', 'back', 'to', 'this', 'place', 'and', 'will', 'never', 'ever', 'recommended', 'this', 'place', 'to', 'anyone'], ['the', 'servers', 'went', 'back', 'and', 'forth', 'several', 'times', 'not', 'even', 'so', 'much', 'as', 'an', 'are', 'you', 'being', 'helped'], ['food', 'was', 'delicious'], ['an', 'hour', 'seriously'], ['i', 'consider', 'this', 'theft'], ['eew', 'this', 'location', 'needs', 'a', 'complete', 'overhaul'], ['we', 'recently', 'witnessed', 'her', 'poor', 'quality', 'of', 'management', 'towards', 'other', 'guests', 'as', 'well'], ['waited', 'and', 'waited', 'and', 'waited'], ['he', 'also', 'came', 'back', 'to', 'check', 'on', 'us', 'regularly', 'excellent', 'service'], ['our', 'server', 'was', 'super', 'nice', 'and', 'checked', 'on', 'us', 'many', 'times'], ['the', 'pizza', 'tasted', 'old', 'super', 'chewy', 'in', 'not', 'a', 'good', 'way'], ['i', 'swung', 'in', 'to', 'give', 'them', 'a', 'try', 'but', 'was', 'deeply', 'disappointed'], ['service', 'was', 'good', 'and', 'the', 'company', 'was', 'better'], ['the', 'staff', 'are', 'also', 'very', 'friendly', 'and', 'efficient'], ['as', 'for', 'the', 'service', 'im', 'a', 'fan', 'because', 'its', 'quick', 'and', 'youre', 'being', 'served', 'by', 'some', 'nice', 'folks'], ['boy', 'was', 'that', 'sucker', 'dry'], ['over', 'rated'], ['if', 'you', 'look', 'for', 'authentic', 'thai', 'food', 'go', 'else', 'where'], ['their', 'steaks', 'are', 'recommended'], ['after', 'i', 'pulled', 'up', 'my', 'car', 'i', 'waited', 'for', 'another', 'minutes', 'before', 'being', 'acknowledged'], ['great', 'food', 'and', 'great', 'service', 'in', 'a', 'clean', 'and', 'friendly', 'setting'], ['all', 'in', 'all', 'i', 'can', 'assure', 'you', 'ill', 'be', 'back'], ['i', 'hate', 'those', 'things', 'as', 'much', 'as', 'cheap', 'quality', 'black', 'olives'], ['my', 'breakfast', 'was', 'perpared', 'great', 'with', 'a', 'beautiful', 'presentation', 'of', 'giant', 'slices', 'of', 'toast', 'lightly', 'dusted', 'with', 'powdered', 'sugar'], ['the', 'kids', 'play', 'area', 'is', 'nasty'], ['great', 'place', 'fo', 'take', 'out', 'or', 'eat', 'in'], ['the', 'waitress', 'was', 'friendly', 'and', 'happy', 'to', 'accomodate', 'for', 'veganveggie', 'options'], ['omg', 'i', 'felt', 'like', 'i', 'had', 'never', 'eaten', 'thai', 'food', 'until', 'this', 'dish'], ['it', 'was', 'extremely', 'crumby', 'and', 'pretty', 'tasteless'], ['it', 'was', 'a', 'pale', 'color', 'instead', 'of', 'nice', 'and', 'char', 'and', 'has', 'no', 'flavor'], ['the', 'croutons', 'also', 'taste', 'homemade', 'which', 'is', 'an', 'extra', 'plus'], ['i', 'got', 'home', 'to', 'see', 'the', 'driest', 'damn', 'wings', 'ever'], ['itll', 'be', 'a', 'regular', 'stop', 'on', 'my', 'trips', 'to', 'phoenix'], ['i', 'really', 'enjoyed', 'crema', 'caf', 'before', 'they', 'expanded', 'i', 'even', 'told', 'friends', 'they', 'had', 'the', 'best', 'breakfast'], ['not', 'good', 'for', 'the', 'money'], ['i', 'miss', 'it', 'and', 'wish', 'they', 'had', 'one', 'in', 'philadelphia'], ['we', 'got', 'sitting', 'fairly', 'fast', 'but', 'ended', 'up', 'waiting', 'minutes', 'just', 'to', 'place', 'our', 'order', 'another', 'minutes', 'before', 'the', 'food', 'arrived'], ['they', 'also', 'have', 'the', 'best', 'cheese', 'crisp', 'in', 'town'], ['good', 'value', 'great', 'food', 'great', 'service'], ['couldnt', 'ask', 'for', 'a', 'more', 'satisfying', 'meal'], ['the', 'food', 'is', 'good'], ['it', 'was', 'awesome'], ['i', 'just', 'wanted', 'to', 'leave'], ['we', 'made', 'the', 'drive', 'all', 'the', 'way', 'from', 'north', 'scottsdale', 'and', 'i', 'was', 'not', 'one', 'bit', 'disappointed'], ['i', 'will', 'not', 'be', 'eating', 'there', 'again'], ['the', 'owners', 'really', 'really', 'need', 'to', 'quit', 'being', 'soooooo', 'cheap', 'let', 'them', 'wrap', 'my', 'freaking', 'sandwich', 'in', 'two', 'papers', 'not', 'one'], ['i', 'checked', 'out', 'this', 'place', 'a', 'couple', 'years', 'ago', 'and', 'was', 'not', 'impressed'], ['the', 'chicken', 'i', 'got', 'was', 'definitely', 'reheated', 'and', 'was', 'only', 'ok', 'the', 'wedges', 'were', 'cold', 'and', 'soggy'], ['sorry', 'i', 'will', 'not', 'be', 'getting', 'food', 'from', 'here', 'anytime', 'soon'], ['an', 'absolute', 'must', 'visit'], ['the', 'cow', 'tongue', 'and', 'cheek', 'tacos', 'are', 'amazing'], ['my', 'friend', 'did', 'not', 'like', 'his', 'bloody', 'mary'], ['despite', 'how', 'hard', 'i', 'rate', 'businesses', 'its', 'actually', 'rare', 'for', 'me', 'to', 'give', 'a', 'star'], ['they', 'really', 'want', 'to', 'make', 'your', 'experience', 'a', 'good', 'one'], ['i', 'will', 'not', 'return'], ['i', 'had', 'the', 'chicken', 'pho', 'and', 'it', 'tasted', 'very', 'bland'], ['very', 'disappointing'], ['the', 'grilled', 'chicken', 'was', 'so', 'tender', 'and', 'yellow', 'from', 'the', 'saffron', 'seasoning'], ['a', 'drive', 'thru', 'means', 'you', 'do', 'not', 'want', 'to', 'wait', 'around', 'for', 'half', 'an', 'hour', 'for', 'your', 'food', 'but', 'somehow', 'when', 'we', 'end', 'up', 'going', 'here', 'they', 'make', 'us', 'wait', 'and', 'wait'], ['pretty', 'awesome', 'place'], ['ambience', 'is', 'perfect'], ['best', 'of', 'luck', 'to', 'the', 'rude', 'and', 'noncustomer', 'service', 'focused', 'new', 'management'], ['any', 'grandmother', 'can', 'make', 'a', 'roasted', 'chicken', 'better', 'than', 'this', 'one'], ['i', 'asked', 'multiple', 'times', 'for', 'the', 'wine', 'list', 'and', 'after', 'some', 'time', 'of', 'being', 'ignored', 'i', 'went', 'to', 'the', 'hostess', 'and', 'got', 'one', 'myself'], ['the', 'staff', 'is', 'always', 'super', 'friendly', 'and', 'helpful', 'which', 'is', 'especially', 'cool', 'when', 'you', 'bring', 'two', 'small', 'boys', 'and', 'a', 'baby'], ['four', 'stars', 'for', 'the', 'food', 'the', 'guy', 'in', 'the', 'blue', 'shirt', 'for', 'his', 'great', 'vibe', 'still', 'letting', 'us', 'in', 'to', 'eat'], ['the', 'roast', 'beef', 'sandwich', 'tasted', 'really', 'good'], ['same', 'evening', 'him', 'and', 'i', 'are', 'both', 'drastically', 'sick'], ['highquality', 'chicken', 'on', 'the', 'chicken', 'caesar', 'salad'], ['ordered', 'burger', 'rare', 'came', 'in', 'well', 'done'], ['we', 'were', 'promptly', 'greeted', 'and', 'seated'], ['tried', 'to', 'go', 'here', 'for', 'lunch', 'and', 'it', 'was', 'a', 'madhouse'], ['i', 'was', 'proven', 'dead', 'wrong', 'by', 'this', 'sushi', 'bar', 'not', 'only', 'because', 'the', 'quality', 'is', 'great', 'but', 'the', 'service', 'is', 'fast', 'and', 'the', 'food', 'impeccable'], ['after', 'waiting', 'an', 'hour', 'and', 'being', 'seated', 'i', 'was', 'not', 'in', 'the', 'greatest', 'of', 'moods'], ['this', 'is', 'a', 'good', 'joint'], ['the', 'macarons', 'here', 'are', 'insanely', 'good'], ['im', 'not', 'eating', 'here'], ['our', 'waiter', 'was', 'very', 'attentive', 'friendly', 'and', 'informative'], ['maybe', 'if', 'they', 'werent', 'cold', 'they', 'would', 'have', 'been', 'somewhat', 'edible'], ['this', 'place', 'has', 'a', 'lot', 'of', 'promise', 'but', 'fails', 'to', 'deliver'], ['very', 'bad', 'experience'], ['what', 'a', 'mistake'], ['food', 'was', 'average', 'at', 'best'], ['great', 'food'], ['we', 'wont', 'be', 'going', 'back', 'anytime', 'soon'], ['very', 'very', 'disappointed', 'ordered', 'the', 'big', 'bay', 'plater'], ['great', 'place', 'to', 'relax', 'and', 'have', 'an', 'awesome', 'burger', 'and', 'beer'], ['it', 'is', 'perfect', 'for', 'a', 'sitdown', 'family', 'meal', 'or', 'get', 'together', 'with', 'a', 'few', 'friends'], ['not', 'much', 'flavor', 'to', 'them', 'and', 'very', 'poorly', 'constructed'], ['the', 'patio', 'seating', 'was', 'very', 'comfortable'], ['the', 'fried', 'rice', 'was', 'dry', 'as', 'well'], ['hands', 'down', 'my', 'favorite', 'italian', 'restaurant'], ['that', 'just', 'screams', 'legit', 'in', 'my', 'booksomethats', 'also', 'pretty', 'rare', 'here', 'in', 'vegas'], ['it', 'was', 'just', 'not', 'a', 'fun', 'experience'], ['the', 'atmosphere', 'was', 'great', 'with', 'a', 'lovely', 'duo', 'of', 'violinists', 'playing', 'songs', 'we', 'requested'], ['i', 'personally', 'love', 'the', 'hummus', 'pita', 'baklava', 'falafels', 'and', 'baba', 'ganoush', 'its', 'amazing', 'what', 'they', 'do', 'with', 'eggplant'], ['very', 'convenient', 'since', 'we', 'were', 'staying', 'at', 'the', 'mgm'], ['the', 'owners', 'are', 'super', 'friendly', 'and', 'the', 'staff', 'is', 'courteous'], ['both', 'great'], ['eclectic', 'selection'], ['the', 'sweet', 'potato', 'tots', 'were', 'good', 'but', 'the', 'onion', 'rings', 'were', 'perfection', 'or', 'as', 'close', 'as', 'i', 'have', 'had'], ['the', 'staff', 'was', 'very', 'attentive'], ['and', 'the', 'chef', 'was', 'generous', 'with', 'his', 'time', 'even', 'came', 'around', 'twice', 'so', 'we', 'can', 'take', 'pictures', 'with', 'him'], ['the', 'owner', 'used', 'to', 'work', 'at', 'nobu', 'so', 'this', 'place', 'is', 'really', 'similar', 'for', 'half', 'the', 'price'], ['google', 'mediocre', 'and', 'i', 'imagine', 'smashburger', 'will', 'pop', 'up'], ['dont', 'go', 'here'], ['i', 'promise', 'they', 'wont', 'disappoint'], ['as', 'a', 'sushi', 'lover', 'avoid', 'this', 'place', 'by', 'all', 'means'], ['what', 'a', 'great', 'double', 'cheeseburger'], ['awesome', 'service', 'and', 'food'], ['a', 'fantastic', 'neighborhood', 'gem'], ['i', 'cant', 'wait', 'to', 'go', 'back'], ['the', 'plantains', 'were', 'the', 'worst', 'ive', 'ever', 'tasted'], ['its', 'a', 'great', 'place', 'and', 'i', 'highly', 'recommend', 'it'], ['service', 'was', 'slow', 'and', 'not', 'attentive'], ['i', 'gave', 'it', 'stars', 'then', 'and', 'im', 'giving', 'it', 'stars', 'now'], ['your', 'staff', 'spends', 'more', 'time', 'talking', 'to', 'themselves', 'than', 'me'], ['dessert', 'panna', 'cotta', 'was', 'amazing'], ['very', 'good', 'food', 'great', 'atmosphere'], ['damn', 'good', 'steak'], ['total', 'brunch', 'fail'], ['prices', 'are', 'very', 'reasonable', 'flavors', 'are', 'spot', 'on', 'the', 'sauce', 'is', 'home', 'made', 'and', 'the', 'slaw', 'is', 'not', 'drenched', 'in', 'mayo'], ['the', 'decor', 'is', 'nice', 'and', 'the', 'piano', 'music', 'soundtrack', 'is', 'pleasant'], ['the', 'steak', 'was', 'amazingrge', 'fillet', 'relleno', 'was', 'the', 'best', 'seafood', 'plate', 'i', 'have', 'ever', 'had'], ['good', 'food', 'good', 'service'], ['it', 'was', 'absolutely', 'amazing'], ['i', 'probably', 'wont', 'be', 'back', 'to', 'be', 'honest'], ['will', 'definitely', 'be', 'back'], ['the', 'sergeant', 'pepper', 'beef', 'sandwich', 'with', 'auju', 'sauce', 'is', 'an', 'excellent', 'sandwich', 'as', 'well'], ['hawaiian', 'breeze', 'mango', 'magic', 'and', 'pineapple', 'delight', 'are', 'the', 'smoothies', 'that', 'ive', 'tried', 'so', 'far', 'and', 'theyre', 'all', 'good'], ['went', 'for', 'lunch', 'service', 'was', 'slow'], ['we', 'had', 'so', 'much', 'to', 'say', 'about', 'the', 'place', 'before', 'we', 'walked', 'in', 'that', 'he', 'expected', 'it', 'to', 'be', 'amazing', 'but', 'was', 'quickly', 'disappointed'], ['i', 'was', 'mortified'], ['needless', 'to', 'say', 'we', 'will', 'never', 'be', 'back', 'here', 'again'], ['anyways', 'the', 'food', 'was', 'definitely', 'not', 'filling', 'at', 'all', 'and', 'for', 'the', 'price', 'you', 'pay', 'you', 'should', 'expect', 'more'], ['the', 'chips', 'that', 'came', 'out', 'were', 'dripping', 'with', 'grease', 'and', 'mostly', 'not', 'edible'], ['i', 'wasnt', 'really', 'impressed', 'with', 'strip', 'steak'], ['have', 'been', 'going', 'since', 'and', 'every', 'meal', 'has', 'been', 'awesome'], ['our', 'server', 'was', 'very', 'nice', 'and', 'attentive', 'as', 'were', 'the', 'other', 'serving', 'staff'], ['the', 'cashier', 'was', 'friendly', 'and', 'even', 'brought', 'the', 'food', 'out', 'to', 'me'], ['i', 'work', 'in', 'the', 'hospitality', 'industry', 'in', 'paradise', 'valley', 'and', 'have', 'refrained', 'from', 'recommending', 'cibo', 'any', 'longer'], ['the', 'atmosphere', 'here', 'is', 'fun'], ['would', 'not', 'recommend', 'to', 'others'], ['service', 'is', 'quick', 'and', 'even', 'to', 'go', 'orders', 'are', 'just', 'like', 'we', 'like', 'it'], ['i', 'mean', 'really', 'how', 'do', 'you', 'get', 'so', 'famous', 'for', 'your', 'fish', 'and', 'chips', 'when', 'its', 'so', 'terrible'], ['that', 'said', 'our', 'mouths', 'and', 'bellies', 'were', 'still', 'quite', 'pleased'], ['not', 'my', 'thing'], ['thumbs', 'up'], ['if', 'you', 'are', 'reading', 'this', 'please', 'dont', 'go', 'there'], ['i', 'loved', 'the', 'grilled', 'pizza', 'reminded', 'me', 'of', 'legit', 'italian', 'pizza'], ['only', 'pros', 'large', 'seating', 'area', 'nice', 'bar', 'area', 'great', 'simple', 'drink', 'menu', 'the', 'best', 'brick', 'oven', 'pizza', 'with', 'homemade', 'dough'], ['they', 'have', 'a', 'really', 'nice', 'atmosphere'], ['tonight', 'i', 'had', 'the', 'elk', 'filet', 'specialand', 'it', 'sucked'], ['after', 'one', 'bite', 'i', 'was', 'hooked'], ['we', 'ordered', 'some', 'old', 'classics', 'and', 'some', 'new', 'dishes', 'after', 'going', 'there', 'a', 'few', 'times', 'and', 'were', 'sorely', 'disappointed', 'with', 'everything'], ['cute', 'quaint', 'simple', 'honest'], ['the', 'chicken', 'was', 'deliciously', 'seasoned', 'and', 'had', 'the', 'perfect', 'fry', 'on', 'the', 'outside', 'and', 'moist', 'chicken', 'on', 'the', 'inside'], ['the', 'food', 'was', 'great', 'as', 'always', 'compliments', 'to', 'the', 'chef'], ['special', 'thanks', 'to', 'dylan', 't', 'for', 'the', 'recommendation', 'on', 'what', 'to', 'order', 'all', 'yummy', 'for', 'my', 'tummy'], ['awesome', 'selection', 'of', 'beer'], ['great', 'food', 'and', 'awesome', 'service'], ['one', 'nice', 'thing', 'was', 'that', 'they', 'added', 'gratuity', 'on', 'the', 'bill', 'since', 'our', 'party', 'was', 'larger', 'than', 'or', 'and', 'they', 'didnt', 'expect', 'more', 'tip', 'than', 'that'], ['a', 'fly', 'was', 'in', 'my', 'apple', 'juice', 'a', 'fly'], ['the', 'han', 'nan', 'chicken', 'was', 'also', 'very', 'tasty'], ['as', 'for', 'the', 'service', 'i', 'thought', 'it', 'was', 'good'], ['the', 'food', 'was', 'barely', 'lukewarm', 'so', 'it', 'must', 'have', 'been', 'sitting', 'waiting', 'for', 'the', 'server', 'to', 'bring', 'it', 'out', 'to', 'us'], ['ryans', 'bar', 'is', 'definitely', 'one', 'edinburgh', 'establishment', 'i', 'wont', 'be', 'revisiting'], ['nicest', 'chinese', 'restaurant', 'ive', 'been', 'in', 'a', 'while'], ['overall', 'i', 'like', 'there', 'food', 'and', 'the', 'service'], ['they', 'also', 'now', 'serve', 'indian', 'naan', 'bread', 'with', 'hummus', 'and', 'some', 'spicy', 'pine', 'nut', 'sauce', 'that', 'was', 'out', 'of', 'this', 'world'], ['probably', 'never', 'coming', 'back', 'and', 'wouldnt', 'recommend', 'it'], ['friends', 'pasta', 'also', 'bad', 'he', 'barely', 'touched', 'it'], ['try', 'them', 'in', 'the', 'airport', 'to', 'experience', 'some', 'tasty', 'food', 'and', 'speedy', 'friendly', 'service'], ['i', 'love', 'the', 'decor', 'with', 'the', 'chinese', 'calligraphy', 'wall', 'paper'], ['never', 'had', 'anything', 'to', 'complain', 'about', 'here'], ['the', 'restaurant', 'is', 'very', 'clean', 'and', 'has', 'a', 'family', 'restaurant', 'feel', 'to', 'it'], ['it', 'was', 'way', 'over', 'fried'], ['im', 'not', 'sure', 'how', 'long', 'we', 'stood', 'there', 'but', 'it', 'was', 'long', 'enough', 'for', 'me', 'to', 'begin', 'to', 'feel', 'awkwardly', 'out', 'of', 'place'], ['when', 'i', 'opened', 'the', 'sandwich', 'i', 'was', 'impressed', 'but', 'not', 'in', 'a', 'good', 'way'], ['will', 'not', 'be', 'back'], ['there', 'was', 'a', 'warm', 'feeling', 'with', 'the', 'service', 'and', 'i', 'felt', 'like', 'their', 'guest', 'for', 'a', 'special', 'treat'], ['an', 'extensive', 'menu', 'provides', 'lots', 'of', 'options', 'for', 'breakfast'], ['i', 'always', 'order', 'from', 'the', 'vegetarian', 'menu', 'during', 'dinner', 'which', 'has', 'a', 'wide', 'array', 'of', 'options', 'to', 'choose', 'from'], ['i', 'have', 'watched', 'their', 'prices', 'inflate', 'portions', 'get', 'smaller', 'and', 'management', 'attitudes', 'grow', 'rapidly'], ['wonderful', 'lil', 'tapas', 'and', 'the', 'ambience', 'made', 'me', 'feel', 'all', 'warm', 'and', 'fuzzy', 'inside'], ['i', 'got', 'to', 'enjoy', 'the', 'seafood', 'salad', 'with', 'a', 'fabulous', 'vinegrette'], ['the', 'wontons', 'were', 'thin', 'not', 'thick', 'and', 'chewy', 'almost', 'melt', 'in', 'your', 'mouth'], ['level', 'spicy', 'was', 'perfect', 'where', 'spice', 'didnt', 'overwhelm', 'the', 'soup'], ['we', 'were', 'sat', 'right', 'on', 'time', 'and', 'our', 'server', 'from', 'the', 'get', 'go', 'was', 'fantastic'], ['main', 'thing', 'i', 'didnt', 'enjoy', 'is', 'that', 'the', 'crowd', 'is', 'of', 'older', 'crowd', 'around', 'mid', 's', 'and', 'up'], ['when', 'im', 'on', 'this', 'side', 'of', 'town', 'this', 'will', 'definitely', 'be', 'a', 'spot', 'ill', 'hit', 'up', 'again'], ['i', 'had', 'to', 'wait', 'over', 'minutes', 'to', 'get', 'my', 'drink', 'and', 'longer', 'to', 'get', 'arepas'], ['this', 'is', 'a', 'great', 'place', 'to', 'eat'], ['the', 'jalapeno', 'bacon', 'is', 'soooo', 'good'], ['the', 'service', 'was', 'poor', 'and', 'thats', 'being', 'nice'], ['food', 'was', 'good', 'service', 'was', 'good', 'prices', 'were', 'good'], ['the', 'place', 'was', 'not', 'clean', 'and', 'the', 'food', 'oh', 'so', 'stale'], ['the', 'chicken', 'dishes', 'are', 'ok', 'the', 'beef', 'is', 'like', 'shoe', 'leather'], ['but', 'the', 'service', 'was', 'beyond', 'bad'], ['im', 'so', 'happy', 'to', 'be', 'here'], ['tasted', 'like', 'dirt'], ['one', 'of', 'the', 'few', 'places', 'in', 'phoenix', 'that', 'i', 'would', 'definately', 'go', 'back', 'to', 'again'], ['the', 'block', 'was', 'amazing'], ['its', 'close', 'to', 'my', 'house', 'its', 'lowkey', 'nonfancy', 'affordable', 'prices', 'good', 'food'], ['both', 'the', 'hot', 'sour', 'the', 'egg', 'flower', 'soups', 'were', 'absolutely', 'stars'], ['my', 'sashimi', 'was', 'poor', 'quality', 'being', 'soggy', 'and', 'tasteless'], ['great', 'time', 'family', 'dinner', 'on', 'a', 'sunday', 'night'], ['the', 'food', 'is', 'not', 'tasty', 'at', 'all', 'not', 'to', 'say', 'its', 'real', 'traditional', 'hunan', 'style'], ['what', 'did', 'bother', 'me', 'was', 'the', 'slow', 'service'], ['the', 'flair', 'bartenders', 'are', 'absolutely', 'amazing'], ['their', 'frozen', 'margaritas', 'are', 'way', 'too', 'sugary', 'for', 'my', 'taste'], ['these', 'were', 'so', 'good', 'we', 'ordered', 'them', 'twice'], ['so', 'in', 'a', 'nutshell', 'the', 'restaraunt', 'smells', 'like', 'a', 'combination', 'of', 'a', 'dirty', 'fish', 'market', 'and', 'a', 'sewer'], ['my', 'girlfriends', 'veal', 'was', 'very', 'bad'], ['unfortunately', 'it', 'was', 'not', 'good'], ['i', 'had', 'a', 'pretty', 'satifying', 'experience'], ['join', 'the', 'club', 'and', 'get', 'awesome', 'offers', 'via', 'email'], ['perfect', 'for', 'someone', 'me', 'who', 'only', 'likes', 'beer', 'ice', 'cold', 'or', 'in', 'this', 'case', 'even', 'colder'], ['bland', 'and', 'flavorless', 'is', 'a', 'good', 'way', 'of', 'describing', 'the', 'barely', 'tepid', 'meat'], ['the', 'chains', 'which', 'im', 'no', 'fan', 'of', 'beat', 'this', 'place', 'easily'], ['the', 'nachos', 'are', 'a', 'must', 'have'], ['we', 'will', 'not', 'be', 'coming', 'back'], ['i', 'dont', 'have', 'very', 'many', 'words', 'to', 'say', 'about', 'this', 'place', 'but', 'it', 'does', 'everything', 'pretty', 'well'], ['the', 'staff', 'is', 'super', 'nice', 'and', 'very', 'quick', 'even', 'with', 'the', 'crazy', 'crowds', 'of', 'the', 'downtown', 'juries', 'lawyers', 'and', 'court', 'staff'], ['great', 'atmosphere', 'friendly', 'and', 'fast', 'service'], ['when', 'i', 'received', 'my', 'pita', 'it', 'was', 'huge', 'it', 'did', 'have', 'a', 'lot', 'of', 'meat', 'in', 'it', 'so', 'thumbs', 'up', 'there'], ['once', 'your', 'food', 'arrives', 'its', 'meh'], ['paying', 'for', 'a', 'hot', 'dog', 'and', 'fries', 'that', 'looks', 'like', 'it', 'came', 'out', 'of', 'a', 'kids', 'meal', 'at', 'the', 'wienerschnitzel', 'is', 'not', 'my', 'idea', 'of', 'a', 'good', 'meal'], ['the', 'classic', 'maine', 'lobster', 'roll', 'was', 'fantastic'], ['my', 'brother', 'in', 'law', 'who', 'works', 'at', 'the', 'mall', 'ate', 'here', 'same', 'day', 'and', 'guess', 'what', 'he', 'was', 'sick', 'all', 'night', 'too'], ['so', 'good', 'i', 'am', 'going', 'to', 'have', 'to', 'review', 'this', 'place', 'twice', 'once', 'hereas', 'a', 'tribute', 'to', 'the', 'place', 'and', 'once', 'as', 'a', 'tribute', 'to', 'an', 'event', 'held', 'here', 'last', 'night'], ['the', 'chips', 'and', 'salsa', 'were', 'really', 'good', 'the', 'salsa', 'was', 'very', 'fresh'], ['this', 'place', 'is', 'great'], ['mediocre', 'food'], ['once', 'you', 'get', 'inside', 'youll', 'be', 'impressed', 'with', 'the', 'place'], ['im', 'super', 'pissd'], ['and', 'service', 'was', 'super', 'friendly'], ['why', 'are', 'these', 'sad', 'little', 'vegetables', 'so', 'overcooked'], ['this', 'place', 'was', 'such', 'a', 'nice', 'surprise'], ['they', 'were', 'goldencrispy', 'and', 'delicious'], ['i', 'had', 'high', 'hopes', 'for', 'this', 'place', 'since', 'the', 'burgers', 'are', 'cooked', 'over', 'a', 'charcoal', 'grill', 'but', 'unfortunately', 'the', 'taste', 'fell', 'flat', 'way', 'flat'], ['i', 'could', 'eat', 'their', 'bruschetta', 'all', 'day', 'it', 'is', 'devine'], ['not', 'a', 'single', 'employee', 'came', 'out', 'to', 'see', 'if', 'we', 'were', 'ok', 'or', 'even', 'needed', 'a', 'water', 'refill', 'once', 'they', 'finally', 'served', 'us', 'our', 'food'], ['lastly', 'the', 'mozzarella', 'sticks', 'they', 'were', 'the', 'best', 'thing', 'we', 'ordered'], ['the', 'first', 'time', 'i', 'ever', 'came', 'here', 'i', 'had', 'an', 'amazing', 'experience', 'i', 'still', 'tell', 'people', 'how', 'awesome', 'the', 'duck', 'was'], ['the', 'server', 'was', 'very', 'negligent', 'of', 'our', 'needs', 'and', 'made', 'us', 'feel', 'very', 'unwelcome', 'i', 'would', 'not', 'suggest', 'this', 'place'], ['the', 'service', 'was', 'terrible', 'though'], ['this', 'place', 'is', 'overpriced', 'not', 'consistent', 'with', 'their', 'boba', 'and', 'it', 'really', 'is', 'overpriced'], ['it', 'was', 'packed'], ['i', 'love', 'this', 'place'], ['i', 'can', 'say', 'that', 'the', 'desserts', 'were', 'yummy'], ['the', 'food', 'was', 'terrible'], ['the', 'seasonal', 'fruit', 'was', 'fresh', 'white', 'peach', 'puree'], ['it', 'kept', 'getting', 'worse', 'and', 'worse', 'so', 'now', 'im', 'officially', 'done'], ['this', 'place', 'should', 'honestly', 'be', 'blown', 'up'], ['but', 'i', 'definitely', 'would', 'not', 'eat', 'here', 'again'], ['do', 'not', 'waste', 'your', 'money', 'here'], ['i', 'love', 'that', 'they', 'put', 'their', 'food', 'in', 'nice', 'plastic', 'containers', 'as', 'opposed', 'to', 'cramming', 'it', 'in', 'little', 'paper', 'takeout', 'boxes'], ['the', 'crpe', 'was', 'delicate', 'and', 'thin', 'and', 'moist'], ['awful', 'service'], ['wont', 'ever', 'go', 'here', 'again'], ['food', 'quality', 'has', 'been', 'horrible'], ['for', 'that', 'price', 'i', 'can', 'think', 'of', 'a', 'few', 'place', 'i', 'would', 'have', 'much', 'rather', 'gone'], ['the', 'service', 'here', 'is', 'fair', 'at', 'best'], ['i', 'do', 'love', 'sushi', 'but', 'i', 'found', 'kabuki', 'to', 'be', 'overpriced', 'overhip', 'and', 'underservices'], ['do', 'yourself', 'a', 'favor', 'and', 'stay', 'away', 'from', 'this', 'dish'], ['very', 'poor', 'service'], ['no', 'one', 'at', 'the', 'table', 'thought', 'the', 'food', 'was', 'above', 'average', 'or', 'worth', 'the', 'wait', 'that', 'we', 'had', 'for', 'it'], ['best', 'service', 'and', 'food', 'ever', 'maria', 'our', 'server', 'was', 'so', 'good', 'and', 'friendly', 'she', 'made', 'our', 'day'], ['they', 'were', 'excellent'], ['i', 'paid', 'the', 'bill', 'but', 'did', 'not', 'tip', 'because', 'i', 'felt', 'the', 'server', 'did', 'a', 'terrible', 'job'], ['just', 'had', 'lunch', 'here', 'and', 'had', 'a', 'great', 'experience'], ['i', 'have', 'never', 'had', 'such', 'bland', 'food', 'which', 'surprised', 'me', 'considering', 'the', 'article', 'we', 'read', 'focused', 'so', 'much', 'on', 'their', 'spices', 'and', 'flavor'], ['food', 'is', 'way', 'overpriced', 'and', 'portions', 'are', 'fucking', 'small'], ['i', 'recently', 'tried', 'caballeros', 'and', 'i', 'have', 'been', 'back', 'every', 'week', 'since'], ['for', 'bucks', 'a', 'head', 'i', 'really', 'expect', 'better', 'food'], ['the', 'food', 'came', 'out', 'at', 'a', 'good', 'pace'], ['i', 'ate', 'there', 'twice', 'on', 'my', 'last', 'visit', 'and', 'especially', 'enjoyed', 'the', 'salmon', 'salad'], ['i', 'wont', 'be', 'back'], ['we', 'could', 'not', 'believe', 'how', 'dirty', 'the', 'oysters', 'were'], ['this', 'place', 'deserves', 'no', 'stars'], ['i', 'would', 'not', 'recommend', 'this', 'place'], ['in', 'fact', 'im', 'going', 'to', 'round', 'up', 'to', 'stars', 'just', 'because', 'she', 'was', 'so', 'awesome'], ['to', 'my', 'disbelief', 'each', 'dish', 'qualified', 'as', 'the', 'worst', 'version', 'of', 'these', 'foods', 'i', 'have', 'ever', 'tasted'], ['bad', 'day', 'or', 'not', 'i', 'have', 'a', 'very', 'low', 'tolerance', 'for', 'rude', 'customer', 'service', 'people', 'it', 'is', 'your', 'job', 'to', 'be', 'nice', 'and', 'polite', 'wash', 'dishes', 'otherwise'], ['the', 'potatoes', 'were', 'great', 'and', 'so', 'was', 'the', 'biscuit'], ['i', 'probably', 'would', 'not', 'go', 'here', 'again'], ['so', 'flavorful', 'and', 'has', 'just', 'the', 'perfect', 'amount', 'of', 'heat'], ['the', 'price', 'is', 'reasonable', 'and', 'the', 'service', 'is', 'great'], ['the', 'wife', 'hated', 'her', 'meal', 'coconut', 'shrimp', 'and', 'our', 'friends', 'really', 'did', 'not', 'enjoy', 'their', 'meals', 'either'], ['my', 'fella', 'got', 'the', 'huevos', 'rancheros', 'and', 'they', 'didnt', 'look', 'too', 'appealing'], ['went', 'in', 'for', 'happy', 'hour', 'great', 'list', 'of', 'wines'], ['some', 'may', 'say', 'this', 'buffet', 'is', 'pricey', 'but', 'i', 'think', 'you', 'get', 'what', 'you', 'pay', 'for', 'and', 'this', 'place', 'you', 'are', 'getting', 'quite', 'a', 'lot'], ['i', 'probably', 'wont', 'be', 'coming', 'back', 'here'], ['worst', 'foodservice', 'ive', 'had', 'in', 'a', 'while'], ['this', 'place', 'is', 'pretty', 'good', 'nice', 'little', 'vibe', 'in', 'the', 'restaurant'], ['talk', 'about', 'great', 'customer', 'service', 'of', 'course', 'we', 'will', 'be', 'back'], ['hot', 'dishes', 'are', 'not', 'hot', 'cold', 'dishes', 'are', 'close', 'to', 'room', 'tempi', 'watched', 'staff', 'prepare', 'food', 'with', 'bare', 'hands', 'no', 'gloveseverything', 'is', 'deep', 'fried', 'in', 'oil'], ['i', 'love', 'their', 'fries', 'and', 'their', 'beans'], ['always', 'a', 'pleasure', 'dealing', 'with', 'him'], ['they', 'have', 'a', 'plethora', 'of', 'salads', 'and', 'sandwiches', 'and', 'everything', 'ive', 'tried', 'gets', 'my', 'seal', 'of', 'approval'], ['this', 'place', 'is', 'awesome', 'if', 'you', 'want', 'something', 'light', 'and', 'healthy', 'during', 'the', 'summer'], ['for', 'sushi', 'on', 'the', 'strip', 'this', 'is', 'the', 'place', 'to', 'go'], ['the', 'service', 'was', 'great', 'even', 'the', 'manager', 'came', 'and', 'helped', 'with', 'our', 'table'], ['the', 'feel', 'of', 'the', 'dining', 'room', 'was', 'more', 'college', 'cooking', 'course', 'than', 'high', 'class', 'dining', 'and', 'the', 'service', 'was', 'slow', 'at', 'best'], ['i', 'started', 'this', 'review', 'with', 'two', 'stars', 'but', 'im', 'editing', 'it', 'to', 'give', 'it', 'only', 'one'], ['this', 'is', 'the', 'worst', 'sushi', 'i', 'have', 'ever', 'eat', 'besides', 'costcos'], ['all', 'in', 'all', 'an', 'excellent', 'restaurant', 'highlighted', 'by', 'great', 'service', 'a', 'unique', 'menu', 'and', 'a', 'beautiful', 'setting'], ['my', 'boyfriend', 'and', 'i', 'sat', 'at', 'the', 'bar', 'and', 'had', 'a', 'completely', 'delightful', 'experience'], ['weird', 'vibe', 'from', 'owners'], ['there', 'was', 'hardly', 'any', 'meat'], ['ive', 'had', 'better', 'bagels', 'from', 'the', 'grocery', 'store'], ['go', 'to', 'place', 'for', 'gyros'], ['i', 'love', 'the', 'ownerchef', 'his', 'one', 'authentic', 'japanese', 'cool', 'dude'], ['now', 'the', 'burgers', 'arent', 'as', 'good', 'the', 'pizza', 'which', 'used', 'to', 'be', 'amazing', 'is', 'doughy', 'and', 'flavorless'], ['i', 'found', 'a', 'six', 'inch', 'long', 'piece', 'of', 'wire', 'in', 'my', 'salsa'], ['the', 'service', 'was', 'terrible', 'food', 'was', 'mediocre'], ['we', 'definately', 'enjoyed', 'ourselves'], ['i', 'ordered', 'albondigas', 'soup', 'which', 'was', 'just', 'warm', 'and', 'tasted', 'like', 'tomato', 'soup', 'with', 'frozen', 'meatballs'], ['on', 'three', 'different', 'occasions', 'i', 'asked', 'for', 'well', 'done', 'or', 'medium', 'well', 'and', 'all', 'three', 'times', 'i', 'got', 'the', 'bloodiest', 'piece', 'of', 'meat', 'on', 'my', 'plate'], ['i', 'had', 'about', 'two', 'bites', 'and', 'refused', 'to', 'eat', 'anymore'], ['the', 'service', 'was', 'extremely', 'slow'], ['after', 'minutes', 'wait', 'i', 'got', 'a', 'table'], ['seriously', 'killer', 'hot', 'chai', 'latte'], ['no', 'allergy', 'warnings', 'on', 'the', 'menu', 'and', 'the', 'waitress', 'had', 'absolutely', 'no', 'clue', 'as', 'to', 'which', 'meals', 'did', 'or', 'did', 'not', 'contain', 'peanuts'], ['my', 'boyfriend', 'tried', 'the', 'mediterranean', 'chicken', 'salad', 'and', 'fell', 'in', 'love'], ['their', 'rotating', 'beers', 'on', 'tap', 'is', 'also', 'a', 'highlight', 'of', 'this', 'place'], ['pricing', 'is', 'a', 'bit', 'of', 'a', 'concern', 'at', 'mellow', 'mushroom'], ['worst', 'thai', 'ever'], ['if', 'you', 'stay', 'in', 'vegas', 'you', 'must', 'get', 'breakfast', 'here', 'at', 'least', 'once'], ['i', 'want', 'to', 'first', 'say', 'our', 'server', 'was', 'great', 'and', 'we', 'had', 'perfect', 'service'], ['the', 'pizza', 'selections', 'are', 'good'], ['i', 'had', 'strawberry', 'tea', 'which', 'was', 'good'], ['highly', 'unprofessional', 'and', 'rude', 'to', 'a', 'loyal', 'patron'], ['overall', 'a', 'great', 'experience'], ['spend', 'your', 'money', 'elsewhere'], ['their', 'regular', 'toasted', 'bread', 'was', 'equally', 'satisfying', 'with', 'the', 'occasional', 'pats', 'of', 'butter', 'mmmm'], ['the', 'buffet', 'at', 'bellagio', 'was', 'far', 'from', 'what', 'i', 'anticipated'], ['and', 'the', 'drinks', 'are', 'weak', 'people'], ['my', 'order', 'was', 'not', 'correct'], ['also', 'i', 'feel', 'like', 'the', 'chips', 'are', 'bought', 'not', 'made', 'in', 'house'], ['after', 'the', 'disappointing', 'dinner', 'we', 'went', 'elsewhere', 'for', 'dessert'], ['the', 'chips', 'and', 'sals', 'a', 'here', 'is', 'amazing'], ['we', 'wont', 'be', 'returning'], ['this', 'is', 'my', 'new', 'fav', 'vegas', 'buffet', 'spot'], ['i', 'seriously', 'cannot', 'believe', 'that', 'the', 'owner', 'has', 'so', 'many', 'unexperienced', 'employees', 'that', 'all', 'are', 'running', 'around', 'like', 'chickens', 'with', 'their', 'heads', 'cut', 'off'], ['very', 'very', 'sad'], ['i', 'felt', 'insulted', 'and', 'disrespected', 'how', 'could', 'you', 'talk', 'and', 'judge', 'another', 'human', 'being', 'like', 'that'], ['how', 'can', 'you', 'call', 'yourself', 'a', 'steakhouse', 'if', 'you', 'cant', 'properly', 'cook', 'a', 'steak', 'i', 'dont', 'understand'], ['im', 'not', 'impressed', 'with', 'the', 'concept', 'or', 'the', 'food'], ['the', 'only', 'thing', 'i', 'wasnt', 'too', 'crazy', 'about', 'was', 'their', 'guacamole', 'as', 'i', 'dont', 'like', 'it', 'pured'], ['there', 'is', 'really', 'nothing', 'for', 'me', 'at', 'postinos', 'hope', 'your', 'experience', 'is', 'better'], ['i', 'got', 'food', 'poisoning', 'here', 'at', 'the', 'buffet'], ['they', 'brought', 'a', 'fresh', 'batch', 'of', 'fries', 'and', 'i', 'was', 'thinking', 'yay', 'something', 'warm', 'but', 'no'], ['what', 'should', 'have', 'been', 'a', 'hilarious', 'yummy', 'christmas', 'eve', 'dinner', 'to', 'remember', 'was', 'the', 'biggest', 'fail', 'of', 'the', 'entire', 'trip', 'for', 'us'], ['needless', 'to', 'say', 'i', 'wont', 'be', 'going', 'back', 'anytime', 'soon'], ['this', 'place', 'is', 'disgusting'], ['every', 'time', 'i', 'eat', 'here', 'i', 'see', 'caring', 'teamwork', 'to', 'a', 'professional', 'degree'], ['the', 'ri', 'style', 'calamari', 'was', 'a', 'joke'], ['however', 'there', 'was', 'so', 'much', 'garlic', 'in', 'the', 'fondue', 'it', 'was', 'barely', 'edible'], ['i', 'could', 'barely', 'stomach', 'the', 'meal', 'but', 'didnt', 'complain', 'because', 'it', 'was', 'a', 'business', 'lunch'], ['it', 'was', 'so', 'bad', 'i', 'had', 'lost', 'the', 'heart', 'to', 'finish', 'it'], ['it', 'also', 'took', 'her', 'forever', 'to', 'bring', 'us', 'the', 'check', 'when', 'we', 'asked', 'for', 'it'], ['we', 'arent', 'ones', 'to', 'make', 'a', 'scene', 'at', 'restaurants', 'but', 'i', 'just', 'dont', 'get', 'itdefinitely', 'lost', 'the', 'love', 'after', 'this', 'one'], ['disappointing', 'experience'], ['the', 'food', 'is', 'about', 'on', 'par', 'with', 'dennys', 'which', 'is', 'to', 'say', 'not', 'good', 'at', 'all'], ['if', 'you', 'want', 'to', 'wait', 'for', 'mediocre', 'food', 'and', 'downright', 'terrible', 'service', 'then', 'this', 'is', 'the', 'place', 'for', 'you'], ['waaaaaayyyyyyyyyy', 'over', 'rated', 'is', 'all', 'i', 'am', 'saying'], ['we', 'wont', 'be', 'going', 'back'], ['the', 'place', 'was', 'fairly', 'clean', 'but', 'the', 'food', 'simply', 'wasnt', 'worth', 'it'], ['this', 'place', 'lacked', 'style'], ['the', 'sangria', 'was', 'about', 'half', 'of', 'a', 'glass', 'wine', 'full', 'and', 'was', 'ridiculous'], ['dont', 'bother', 'coming', 'here'], ['the', 'meat', 'was', 'pretty', 'dry', 'i', 'had', 'the', 'sliced', 'brisket', 'and', 'pulled', 'pork'], ['the', 'building', 'itself', 'seems', 'pretty', 'neat', 'the', 'bathroom', 'is', 'pretty', 'trippy', 'but', 'i', 'wouldnt', 'eat', 'here', 'again'], ['it', 'was', 'equally', 'awful'], ['probably', 'not', 'in', 'a', 'hurry', 'to', 'go', 'back'], ['very', 'slow', 'at', 'seating', 'even', 'with', 'reservation'], ['not', 'good', 'by', 'any', 'stretch', 'of', 'the', 'imagination'], ['the', 'cashew', 'cream', 'sauce', 'was', 'bland', 'and', 'the', 'vegetables', 'were', 'undercooked'], ['the', 'chipolte', 'ranch', 'dipping', 'sause', 'was', 'tasteless', 'seemed', 'thin', 'and', 'watered', 'down', 'with', 'no', 'heat'], ['it', 'was', 'a', 'bit', 'too', 'sweet', 'not', 'really', 'spicy', 'enough', 'and', 'lacked', 'flavor'], ['i', 'was', 'very', 'disappointed'], ['this', 'place', 'is', 'horrible', 'and', 'way', 'overpriced'], ['maybe', 'its', 'just', 'their', 'vegetarian', 'fare', 'but', 'ive', 'been', 'twice', 'and', 'i', 'thought', 'it', 'was', 'average', 'at', 'best'], ['it', 'wasnt', 'busy', 'at', 'all', 'and', 'now', 'we', 'know', 'why'], ['the', 'tables', 'outside', 'are', 'also', 'dirty', 'a', 'lot', 'of', 'the', 'time', 'and', 'the', 'workers', 'are', 'not', 'always', 'friendly', 'and', 'helpful', 'with', 'the', 'menu'], ['the', 'ambiance', 'here', 'did', 'not', 'feel', 'like', 'a', 'buffet', 'setting', 'but', 'more', 'of', 'a', 'douchey', 'indoor', 'garden', 'for', 'tea', 'and', 'biscuits'], ['con', 'spotty', 'service'], ['the', 'fries', 'were', 'not', 'hot', 'and', 'neither', 'was', 'my', 'burger'], ['but', 'then', 'they', 'came', 'back', 'cold'], ['then', 'our', 'food', 'came', 'out', 'disappointment', 'ensued'], ['the', 'real', 'disappointment', 'was', 'our', 'waiter'], ['my', 'husband', 'said', 'she', 'was', 'very', 'rude', 'did', 'not', 'even', 'apologize', 'for', 'the', 'bad', 'food', 'or', 'anything'], ['the', 'only', 'reason', 'to', 'eat', 'here', 'would', 'be', 'to', 'fill', 'up', 'before', 'a', 'night', 'of', 'binge', 'drinking', 'just', 'to', 'get', 'some', 'carbs', 'in', 'your', 'stomach'], ['insults', 'profound', 'deuchebaggery', 'and', 'had', 'to', 'go', 'outside', 'for', 'a', 'smoke', 'break', 'while', 'serving', 'just', 'to', 'solidify', 'it'], ['if', 'someone', 'orders', 'two', 'tacos', 'dont', 'you', 'think', 'it', 'may', 'be', 'part', 'of', 'customer', 'service', 'to', 'ask', 'if', 'it', 'is', 'combo', 'or', 'ala', 'cart'], ['she', 'was', 'quite', 'disappointed', 'although', 'some', 'blame', 'needs', 'to', 'be', 'placed', 'at', 'her', 'door'], ['after', 'all', 'the', 'rave', 'reviews', 'i', 'couldnt', 'wait', 'to', 'eat', 'herewhat', 'a', 'disappointment'], ['del', 'taco', 'is', 'pretty', 'nasty', 'and', 'should', 'be', 'avoided', 'if', 'possible'], ['its', 'not', 'hard', 'to', 'make', 'a', 'decent', 'hamburger'], ['but', 'i', 'dont', 'like', 'it'], ['hell', 'no', 'will', 'i', 'go', 'back'], ['weve', 'have', 'gotten', 'a', 'much', 'better', 'service', 'from', 'the', 'pizza', 'place', 'next', 'door', 'than', 'the', 'services', 'we', 'received', 'from', 'this', 'restaurant'], ['i', 'dont', 'know', 'what', 'the', 'big', 'deal', 'is', 'about', 'this', 'place', 'but', 'i', 'wont', 'be', 'back', 'yaall'], ['i', 'immediately', 'said', 'i', 'wanted', 'to', 'talk', 'to', 'the', 'manager', 'but', 'i', 'did', 'not', 'want', 'to', 'talk', 'to', 'the', 'guy', 'who', 'was', 'doing', 'shots', 'of', 'fireball', 'behind', 'the', 'bar'], ['the', 'ambiance', 'isnt', 'much', 'better'], ['unfortunately', 'it', 'only', 'set', 'us', 'up', 'for', 'disapppointment', 'with', 'our', 'entrees'], ['the', 'food', 'wasnt', 'good'], ['your', 'servers', 'suck', 'wait', 'correction', 'our', 'server', 'heimer', 'sucked'], ['what', 'happened', 'next', 'was', 'prettyoff', 'putting'], ['too', 'bad', 'cause', 'i', 'know', 'its', 'family', 'owned', 'i', 'really', 'wanted', 'to', 'like', 'this', 'place'], ['overpriced', 'for', 'what', 'you', 'are', 'getting'], ['i', 'vomited', 'in', 'the', 'bathroom', 'mid', 'lunch'], ['i', 'kept', 'looking', 'at', 'the', 'time', 'and', 'it', 'had', 'soon', 'become', 'minutes', 'yet', 'still', 'no', 'food'], ['i', 'have', 'been', 'to', 'very', 'few', 'places', 'to', 'eat', 'that', 'under', 'no', 'circumstances', 'would', 'i', 'ever', 'return', 'to', 'and', 'this', 'tops', 'the', 'list'], ['we', 'started', 'with', 'the', 'tuna', 'sashimi', 'which', 'was', 'brownish', 'in', 'color', 'and', 'obviously', 'wasnt', 'fresh'], ['food', 'was', 'below', 'average'], ['it', 'sure', 'does', 'beat', 'the', 'nachos', 'at', 'the', 'movies', 'but', 'i', 'would', 'expect', 'a', 'little', 'bit', 'more', 'coming', 'from', 'a', 'restaurant'], ['all', 'in', 'all', 'ha', 'long', 'bay', 'was', 'a', 'bit', 'of', 'a', 'flop'], ['the', 'problem', 'i', 'have', 'is', 'that', 'they', 'charge', 'for', 'a', 'sandwich', 'that', 'is', 'no', 'bigger', 'than', 'a', 'subway', 'sub', 'which', 'offers', 'better', 'and', 'more', 'amount', 'of', 'vegetables'], ['shrimp', 'when', 'i', 'unwrapped', 'it', 'i', 'live', 'only', 'a', 'mile', 'from', 'brushfire', 'it', 'was', 'literally', 'ice', 'cold'], ['it', 'lacked', 'flavor', 'seemed', 'undercooked', 'and', 'dry'], ['it', 'really', 'is', 'impressive', 'that', 'the', 'place', 'hasnt', 'closed', 'down'], ['i', 'would', 'avoid', 'this', 'place', 'if', 'you', 'are', 'staying', 'in', 'the', 'mirage'], ['the', 'refried', 'beans', 'that', 'came', 'with', 'my', 'meal', 'were', 'dried', 'out', 'and', 'crusty', 'and', 'the', 'food', 'was', 'bland'], ['spend', 'your', 'money', 'and', 'time', 'some', 'place', 'else'], ['a', 'lady', 'at', 'the', 'table', 'next', 'to', 'us', 'found', 'a', 'live', 'green', 'caterpillar', 'in', 'her', 'salad'], ['the', 'presentation', 'of', 'the', 'food', 'was', 'awful'], ['i', 'cant', 'tell', 'you', 'how', 'disappointed', 'i', 'was'], ['i', 'think', 'food', 'should', 'have', 'flavor', 'and', 'texture', 'and', 'both', 'were', 'lacking'], ['appetite', 'instantly', 'gone'], ['overall', 'i', 'was', 'not', 'impressed', 'and', 'would', 'not', 'go', 'back'], ['the', 'whole', 'experience', 'was', 'underwhelming', 'and', 'i', 'think', 'well', 'just', 'go', 'to', 'ninja', 'sushi', 'next', 'time'], ['then', 'as', 'if', 'i', 'hadnt', 'wasted', 'enough', 'of', 'my', 'life', 'there', 'they', 'poured', 'salt', 'in', 'the', 'wound', 'by', 'drawing', 'out', 'the', 'time', 'it', 'took', 'to', 'bring', 'the', 'check']]\n"
          ]
        }
      ]
    },
    {
      "cell_type": "code",
      "source": [
        "print(f\"{total_tokens=}\")"
      ],
      "metadata": {
        "id": "DZs_etmiV-fd",
        "colab": {
          "base_uri": "https://localhost:8080/"
        },
        "outputId": "59b6d6e7-e6ce-4885-e822-ed88576933c6"
      },
      "execution_count": 82,
      "outputs": [
        {
          "output_type": "stream",
          "name": "stdout",
          "text": [
            "total_tokens=10777\n"
          ]
        }
      ]
    },
    {
      "cell_type": "markdown",
      "source": [
        "*   **Pregunta 15.**  \n",
        "\n",
        "Finalmente, en este ejercicio definiremos nuestro conjunto de palabras \"stopwords\", las cuales deberás eliminar de todo el corpus.\n",
        "\n",
        "Recuerda que ejemplos de stopwords son artículos, adverbios, conectivos, etcétera, que tienen frecuencias de aparición muy altas en cualquier documento, pero que no brindan mucho significado en cuanto al significado de un enunciado.\n",
        "\n",
        "Con base a la lista de stopwords que se te proporciona, realiza un proceso de limpieza eliminando todas estas palabras del corpus obtenido en el ejercicio anterior.\n",
        "\n",
        "Obtener cuántos tokens/palabras quedan finalmente en todo el corpus.\n",
        "\n",
        "Obtener cuántos de estos tokens/palabras son diferentes, es decir, cuántos tokens únicos tendrá lo que llamaremos más adelante nuestro vocabulario."
      ],
      "metadata": {
        "id": "EFeu0OJ7WDPD"
      }
    },
    {
      "cell_type": "code",
      "source": [
        "# Considera la siguiente lista como tu conjunto de stopwords:\n",
        "mis_stopwords = ['i', 'me', 'my', 'myself', 'we', 'our', 'ours', 'ourselves', 'you', 'your', 'yours', 'he', 'him', 'his', 'himself', 'she', 'her', 'hers', 'herself', 'it', 'its', 'itself', 'they', 'them', 'their', 'theirs', 'themselves', 'what', 'which', 'who', 'whom', 'this', 'that', 'these', 'those', 'am', 'is', 'are', 'was', 'were', 'be', 'been', 'being', 'have', 'has', 'had', 'having', 'do', 'does', 'did', 'doing', 'a', 'an', 'the', 'and', 'but', 'if', 'or', 'because', 'as', 'until', 'while', 'of', 'at', 'by', 'for', 'with', 'about', 'against', 'between', 'into', 'through', 'during', 'before', 'after', 'above', 'below', 'to', 'from', 'up', 'down', 'in', 'out', 'on', 'over', 'under', 'again', 'further', 'then', 'once', 'here', 'there', 'when', 'where', 'why', 'how', 'all', 'any', 'both', 'each', 'few', 'more', 'most', 'other', 'some', 'such', 'only', 'own', 'same', 'so', 'than', 'too', 'very', 's', 't', 'can', 'will', 'just', 'should', 'now', 'll']"
      ],
      "metadata": {
        "id": "6FP4FF3KXGxm"
      },
      "execution_count": 83,
      "outputs": []
    },
    {
      "cell_type": "code",
      "source": [
        "stopwords_set = set(mis_stopwords)\n",
        "\n",
        "filtered_corpus = [\n",
        "    [token for token in comment_tokens if token not in stopwords_set]\n",
        "    for comment_tokens in tokenized_corpus\n",
        "]\n",
        "\n",
        "total_tokens_final = sum(len(tokens) for tokens in filtered_corpus)\n",
        "\n",
        "vocabulario = set()\n",
        "for tokens in filtered_corpus:\n",
        "    vocabulario.update(tokens)\n",
        "vocab_size = len(vocabulario)\n",
        "\n",
        "# Resultados\n",
        "print(f\"Total de tokens después de filtrar stopwords: {total_tokens_final}\")\n",
        "print(f\"Número de tokens únicos (vocabulario): {vocab_size}\")"
      ],
      "metadata": {
        "id": "CD8yjyq1ZrwY",
        "colab": {
          "base_uri": "https://localhost:8080/"
        },
        "outputId": "6ae435b4-7955-4283-8c5f-489e57610e75"
      },
      "execution_count": 84,
      "outputs": [
        {
          "output_type": "stream",
          "name": "stdout",
          "text": [
            "Total de tokens después de filtrar stopwords: 5776\n",
            "Número de tokens únicos (vocabulario): 1941\n"
          ]
        }
      ]
    },
    {
      "cell_type": "code",
      "source": [],
      "metadata": {
        "id": "4ZPi5prKZro5"
      },
      "execution_count": null,
      "outputs": []
    },
    {
      "cell_type": "markdown",
      "source": [
        "*   **Comentarios**\n",
        "\n",
        "Incluye finalmente tus comentarios de la actividad."
      ],
      "metadata": {
        "id": "NDbKkuxRbLoX"
      }
    },
    {
      "cell_type": "markdown",
      "source": [
        "Las expresiones regulares realmente simplifican mucho el trabajo de procesamiento de textos. De no haberlas usado, habría tenido que construir funciones muy específicas para tratar cada ejercicio. Me ahorró mucho tiempo haberlas utilizado. Además de eso, hay patrones como ?: que, según lo que he leído, permiten ahorrar memoria, por lo que sigue siendo conveniente usar expresiones regulares. Es divertido trabajar de esta manera con texto, además de que nos permite limpiar rápidamente un corpus y comenzar a utilizarlo."
      ],
      "metadata": {
        "id": "o7fzbvqVbUGr"
      }
    },
    {
      "cell_type": "markdown",
      "source": [
        "##**Fin de la Actividad de la semana 2.**"
      ],
      "metadata": {
        "id": "PHaKw_6Ldbaf"
      }
    }
  ]
}